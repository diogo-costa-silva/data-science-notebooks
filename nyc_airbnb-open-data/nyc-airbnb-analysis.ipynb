{
 "cells": [
  {
   "cell_type": "markdown",
   "metadata": {},
   "source": [
    "#### Import libraries for this project"
   ]
  },
  {
   "cell_type": "code",
   "execution_count": 1,
   "metadata": {},
   "outputs": [],
   "source": [
    "import pandas as pd\n",
    "import numpy as np\n",
    "from scipy import stats\n",
    "\n",
    "%matplotlib inline\n",
    "import matplotlib.pyplot as plt\n",
    "import seaborn as sns\n",
    "\n",
    "import time\n",
    "import plotly.express as px\n",
    "import plotly.graph_objects as go\n",
    "import folium as fl"
   ]
  },
  {
   "cell_type": "markdown",
   "metadata": {},
   "source": [
    "## 1. Data Understanding\n",
    "\n",
    "It's important to understand what the data represents, what the values mean, and what problems might occur during cleaning before start cleaning the data. This understanding can be an aid to the selection of the right cleaning techniques and the avoidance of errors."
   ]
  },
  {
   "cell_type": "code",
   "execution_count": 2,
   "metadata": {},
   "outputs": [
    {
     "data": {
      "text/html": [
       "<div><div id=a0ba44d8-fdec-486b-b425-abcc28758b83 style=\"display:none; background-color:#9D6CFF; color:white; width:200px; height:30px; padding-left:5px; border-radius:4px; flex-direction:row; justify-content:space-around; align-items:center;\" onmouseover=\"this.style.backgroundColor='#BA9BF8'\" onmouseout=\"this.style.backgroundColor='#9D6CFF'\" onclick=\"window.commands?.execute('create-mitosheet-from-dataframe-output');\">See Full Dataframe in Mito</div> <script> if (window.commands?.hasCommand('create-mitosheet-from-dataframe-output')) document.getElementById('a0ba44d8-fdec-486b-b425-abcc28758b83').style.display = 'flex' </script> <table border=\"1\" class=\"dataframe\">\n",
       "  <thead>\n",
       "    <tr style=\"text-align: right;\">\n",
       "      <th></th>\n",
       "      <th>id</th>\n",
       "      <th>name</th>\n",
       "      <th>host_id</th>\n",
       "      <th>host_name</th>\n",
       "      <th>neighbourhood_group</th>\n",
       "      <th>neighbourhood</th>\n",
       "      <th>latitude</th>\n",
       "      <th>longitude</th>\n",
       "      <th>room_type</th>\n",
       "      <th>price</th>\n",
       "      <th>minimum_nights</th>\n",
       "      <th>number_of_reviews</th>\n",
       "      <th>last_review</th>\n",
       "      <th>reviews_per_month</th>\n",
       "      <th>calculated_host_listings_count</th>\n",
       "      <th>availability_365</th>\n",
       "    </tr>\n",
       "  </thead>\n",
       "  <tbody>\n",
       "    <tr>\n",
       "      <th>0</th>\n",
       "      <td>2539</td>\n",
       "      <td>Clean &amp; quiet apt home by the park</td>\n",
       "      <td>2787</td>\n",
       "      <td>John</td>\n",
       "      <td>Brooklyn</td>\n",
       "      <td>Kensington</td>\n",
       "      <td>40.64749</td>\n",
       "      <td>-73.97237</td>\n",
       "      <td>Private room</td>\n",
       "      <td>149</td>\n",
       "      <td>1</td>\n",
       "      <td>9</td>\n",
       "      <td>2018-10-19</td>\n",
       "      <td>0.21</td>\n",
       "      <td>6</td>\n",
       "      <td>365</td>\n",
       "    </tr>\n",
       "    <tr>\n",
       "      <th>1</th>\n",
       "      <td>2595</td>\n",
       "      <td>Skylit Midtown Castle</td>\n",
       "      <td>2845</td>\n",
       "      <td>Jennifer</td>\n",
       "      <td>Manhattan</td>\n",
       "      <td>Midtown</td>\n",
       "      <td>40.75362</td>\n",
       "      <td>-73.98377</td>\n",
       "      <td>Entire home/apt</td>\n",
       "      <td>225</td>\n",
       "      <td>1</td>\n",
       "      <td>45</td>\n",
       "      <td>2019-05-21</td>\n",
       "      <td>0.38</td>\n",
       "      <td>2</td>\n",
       "      <td>355</td>\n",
       "    </tr>\n",
       "    <tr>\n",
       "      <th>2</th>\n",
       "      <td>3647</td>\n",
       "      <td>THE VILLAGE OF HARLEM....NEW YORK !</td>\n",
       "      <td>4632</td>\n",
       "      <td>Elisabeth</td>\n",
       "      <td>Manhattan</td>\n",
       "      <td>Harlem</td>\n",
       "      <td>40.80902</td>\n",
       "      <td>-73.94190</td>\n",
       "      <td>Private room</td>\n",
       "      <td>150</td>\n",
       "      <td>3</td>\n",
       "      <td>0</td>\n",
       "      <td>NaN</td>\n",
       "      <td>NaN</td>\n",
       "      <td>1</td>\n",
       "      <td>365</td>\n",
       "    </tr>\n",
       "    <tr>\n",
       "      <th>3</th>\n",
       "      <td>3831</td>\n",
       "      <td>Cozy Entire Floor of Brownstone</td>\n",
       "      <td>4869</td>\n",
       "      <td>LisaRoxanne</td>\n",
       "      <td>Brooklyn</td>\n",
       "      <td>Clinton Hill</td>\n",
       "      <td>40.68514</td>\n",
       "      <td>-73.95976</td>\n",
       "      <td>Entire home/apt</td>\n",
       "      <td>89</td>\n",
       "      <td>1</td>\n",
       "      <td>270</td>\n",
       "      <td>2019-07-05</td>\n",
       "      <td>4.64</td>\n",
       "      <td>1</td>\n",
       "      <td>194</td>\n",
       "    </tr>\n",
       "    <tr>\n",
       "      <th>4</th>\n",
       "      <td>5022</td>\n",
       "      <td>Entire Apt: Spacious Studio/Loft by central park</td>\n",
       "      <td>7192</td>\n",
       "      <td>Laura</td>\n",
       "      <td>Manhattan</td>\n",
       "      <td>East Harlem</td>\n",
       "      <td>40.79851</td>\n",
       "      <td>-73.94399</td>\n",
       "      <td>Entire home/apt</td>\n",
       "      <td>80</td>\n",
       "      <td>10</td>\n",
       "      <td>9</td>\n",
       "      <td>2018-11-19</td>\n",
       "      <td>0.10</td>\n",
       "      <td>1</td>\n",
       "      <td>0</td>\n",
       "    </tr>\n",
       "  </tbody>\n",
       "</table></div>"
      ],
      "text/plain": [
       "     id                                              name  host_id  \\\n",
       "0  2539                Clean & quiet apt home by the park     2787   \n",
       "1  2595                             Skylit Midtown Castle     2845   \n",
       "2  3647               THE VILLAGE OF HARLEM....NEW YORK !     4632   \n",
       "3  3831                   Cozy Entire Floor of Brownstone     4869   \n",
       "4  5022  Entire Apt: Spacious Studio/Loft by central park     7192   \n",
       "\n",
       "     host_name neighbourhood_group neighbourhood  latitude  longitude  \\\n",
       "0         John            Brooklyn    Kensington  40.64749  -73.97237   \n",
       "1     Jennifer           Manhattan       Midtown  40.75362  -73.98377   \n",
       "2    Elisabeth           Manhattan        Harlem  40.80902  -73.94190   \n",
       "3  LisaRoxanne            Brooklyn  Clinton Hill  40.68514  -73.95976   \n",
       "4        Laura           Manhattan   East Harlem  40.79851  -73.94399   \n",
       "\n",
       "         room_type  price  minimum_nights  number_of_reviews last_review  \\\n",
       "0     Private room    149               1                  9  2018-10-19   \n",
       "1  Entire home/apt    225               1                 45  2019-05-21   \n",
       "2     Private room    150               3                  0         NaN   \n",
       "3  Entire home/apt     89               1                270  2019-07-05   \n",
       "4  Entire home/apt     80              10                  9  2018-11-19   \n",
       "\n",
       "   reviews_per_month  calculated_host_listings_count  availability_365  \n",
       "0               0.21                               6               365  \n",
       "1               0.38                               2               355  \n",
       "2                NaN                               1               365  \n",
       "3               4.64                               1               194  \n",
       "4               0.10                               1                 0  "
      ]
     },
     "execution_count": 2,
     "metadata": {},
     "output_type": "execute_result"
    }
   ],
   "source": [
    "# Create a DataFrame from CSV file\n",
    "file_path = 'https://raw.githubusercontent.com/diogo-costa-silva/datasets/main/nyc_airbnb_open_data/AB_NYC_2019.csv'\n",
    "df = pd.read_csv(file_path)\n",
    "\n",
    "# First 5 rows of the DataFrame\n",
    "df.head()"
   ]
  },
  {
   "cell_type": "code",
   "execution_count": 3,
   "metadata": {},
   "outputs": [
    {
     "name": "stdout",
     "output_type": "stream",
     "text": [
      "<class 'pandas.core.frame.DataFrame'>\n",
      "RangeIndex: 48895 entries, 0 to 48894\n",
      "Data columns (total 16 columns):\n",
      " #   Column                          Non-Null Count  Dtype  \n",
      "---  ------                          --------------  -----  \n",
      " 0   id                              48895 non-null  int64  \n",
      " 1   name                            48879 non-null  object \n",
      " 2   host_id                         48895 non-null  int64  \n",
      " 3   host_name                       48874 non-null  object \n",
      " 4   neighbourhood_group             48895 non-null  object \n",
      " 5   neighbourhood                   48895 non-null  object \n",
      " 6   latitude                        48895 non-null  float64\n",
      " 7   longitude                       48895 non-null  float64\n",
      " 8   room_type                       48895 non-null  object \n",
      " 9   price                           48895 non-null  int64  \n",
      " 10  minimum_nights                  48895 non-null  int64  \n",
      " 11  number_of_reviews               48895 non-null  int64  \n",
      " 12  last_review                     38843 non-null  object \n",
      " 13  reviews_per_month               38843 non-null  float64\n",
      " 14  calculated_host_listings_count  48895 non-null  int64  \n",
      " 15  availability_365                48895 non-null  int64  \n",
      "dtypes: float64(3), int64(7), object(6)\n",
      "memory usage: 6.0+ MB\n"
     ]
    }
   ],
   "source": [
    "# The summary information about the DataFrame\n",
    "df.info()"
   ]
  },
  {
   "cell_type": "markdown",
   "metadata": {},
   "source": [
    "From this output, we can see that the DataFrame has 48,895 rows (entries) and 16 columns. The columns have different data types, including int64, float64, and object. We can also see that some columns have missing values (‘name’, ‘host_name’, ‘last_review’, and ‘reviews_per_month’), as indicated by the difference between the total number of entries (48,895) and the number of non-null values for those columns."
   ]
  },
  {
   "cell_type": "markdown",
   "metadata": {},
   "source": [
    "## 2. Data cleaning \n",
    "\n",
    "This stage is a crucial step in the process of data analysis. It involves identifying and correcting errors, inconsistencies, and missing values in a dataset. This process is essential as it ensures the accuracy and completeness of the data before conducting any analysis.\n",
    "\n",
    "Let's explore the different techniques and tools used in data cleaning, covering topics such as handling missing data, dealing with outliers, and preparing the dataset for analysis."
   ]
  },
  {
   "cell_type": "markdown",
   "metadata": {},
   "source": [
    "### 2.1. Data Types\n",
    "\n",
    "We can see that ‘last_review’ column contains dates, but it’s type is object. There is a need to change it to a datetime data type. It’ll allow to perform calculations on the dates."
   ]
  },
  {
   "cell_type": "code",
   "execution_count": 5,
   "metadata": {},
   "outputs": [],
   "source": [
    "df['last_review'] = pd.to_datetime(df['last_review'])"
   ]
  },
  {
   "cell_type": "markdown",
   "metadata": {},
   "source": [
    "Columns ‘neighbourhood_group’, ‘neighbourhood’, and ‘room_type’ are categorical variables, so it’ll be more appropriate to convert them from an object to a category type."
   ]
  },
  {
   "cell_type": "code",
   "execution_count": 6,
   "metadata": {},
   "outputs": [],
   "source": [
    "df['neighbourhood_group'] = df['neighbourhood_group'].astype('category')\n",
    "df['neighbourhood'] = df['neighbourhood'].astype('category')\n",
    "df['room_type'] = df['room_type'].astype('category')"
   ]
  },
  {
   "cell_type": "markdown",
   "metadata": {},
   "source": [
    "Now we can see unique categories in these columns:"
   ]
  },
  {
   "cell_type": "code",
   "execution_count": 24,
   "metadata": {},
   "outputs": [
    {
     "data": {
      "text/plain": [
       "neighbourhood_group\n",
       "Manhattan        21661\n",
       "Brooklyn         20104\n",
       "Queens            5666\n",
       "Bronx             1091\n",
       "Staten Island      373\n",
       "dtype: int64"
      ]
     },
     "execution_count": 24,
     "metadata": {},
     "output_type": "execute_result"
    }
   ],
   "source": [
    "df.value_counts('neighbourhood_group')"
   ]
  },
  {
   "cell_type": "code",
   "execution_count": 8,
   "metadata": {},
   "outputs": [
    {
     "data": {
      "text/plain": [
       "id                                         int64\n",
       "name                                      object\n",
       "host_id                                    int64\n",
       "host_name                                 object\n",
       "neighbourhood_group                     category\n",
       "neighbourhood                           category\n",
       "latitude                                 float64\n",
       "longitude                                float64\n",
       "room_type                               category\n",
       "price                                      int64\n",
       "minimum_nights                             int64\n",
       "number_of_reviews                          int64\n",
       "last_review                       datetime64[ns]\n",
       "reviews_per_month                        float64\n",
       "calculated_host_listings_count             int64\n",
       "availability_365                           int64\n",
       "dtype: object"
      ]
     },
     "execution_count": 8,
     "metadata": {},
     "output_type": "execute_result"
    }
   ],
   "source": [
    "# Check the data types\n",
    "df.dtypes"
   ]
  },
  {
   "cell_type": "markdown",
   "metadata": {},
   "source": [
    "### 2.2. Duplicates\n",
    "Duplicate rows can cause problems in your analysis by inflating the weight of some observations, skewing the results of statistical analyses, or even giving an incorrect impression of the underlying data."
   ]
  },
  {
   "cell_type": "code",
   "execution_count": 9,
   "metadata": {},
   "outputs": [
    {
     "data": {
      "text/plain": [
       "0"
      ]
     },
     "execution_count": 9,
     "metadata": {},
     "output_type": "execute_result"
    }
   ],
   "source": [
    "df.duplicated().sum()"
   ]
  },
  {
   "cell_type": "markdown",
   "metadata": {},
   "source": [
    "There are no duplicate rows in the DataFrame.\n",
    "\n",
    "### 2.3. Missing Data\n",
    "Missing data can cause problems in your analysis, such as biased results, incorrect statistical inferences, and errors in machine learning models. By identifying missing data, you can decide how to handle it, whether it’s by imputing the missing values or dropping the rows with missing values."
   ]
  },
  {
   "cell_type": "code",
   "execution_count": 10,
   "metadata": {},
   "outputs": [
    {
     "data": {
      "text/plain": [
       "id                                    0\n",
       "name                                 16\n",
       "host_id                               0\n",
       "host_name                            21\n",
       "neighbourhood_group                   0\n",
       "neighbourhood                         0\n",
       "latitude                              0\n",
       "longitude                             0\n",
       "room_type                             0\n",
       "price                                 0\n",
       "minimum_nights                        0\n",
       "number_of_reviews                     0\n",
       "last_review                       10052\n",
       "reviews_per_month                 10052\n",
       "calculated_host_listings_count        0\n",
       "availability_365                      0\n",
       "dtype: int64"
      ]
     },
     "execution_count": 10,
     "metadata": {},
     "output_type": "execute_result"
    }
   ],
   "source": [
    "df.isnull().sum()"
   ]
  },
  {
   "cell_type": "markdown",
   "metadata": {},
   "source": [
    "There are missing values in four columns: ‘name’, ‘host_name’, ‘last_review’, and ‘reviews_per_month’.\n",
    "\n",
    "#### Techniques to deal with missing data:\n",
    "\n",
    "- Deletion: You can simply delete the missing values or the entire row or column where they occur. However, this should only be done if the amount of missing data is small and there is no important information in the missing values.\n",
    "- Imputation: You can impute (fill in) the missing values with some other value or technique. This can be done by replacing missing values with a mean, median, or mode of the data, or by using more sophisticated techniques like regression or machine learning algorithms to predict the missing values.\n",
    "- Interpolation: You can use interpolation techniques to estimate the missing values by using the values of neighboring data points. This is particularly useful for time series data.\n",
    "- Data augmentation: You can use data augmentation techniques to create new data points based on existing data points. This can be done by using statistical techniques to generate new values or by using machine learning algorithms to generate new data points.\n",
    "\n",
    "Considering the fact that ‘name’ column is insignificant for future data analysis, so we can simply replce null values with ‘N/A’."
   ]
  },
  {
   "cell_type": "code",
   "execution_count": 11,
   "metadata": {},
   "outputs": [],
   "source": [
    "df.fillna({'name': 'N/A'}, inplace=True)"
   ]
  },
  {
   "cell_type": "markdown",
   "metadata": {},
   "source": [
    "The ‘host_name’ column is irrelevant and there is no need to store people names. This column can be dropped.\n",
    "\n",
    "The ‘last_review’ column contains the date of the last review and missing values simply mean that there no reviews for this item. This column is also irrelevant for future data analysis and we can also drop it."
   ]
  },
  {
   "cell_type": "code",
   "execution_count": 12,
   "metadata": {},
   "outputs": [],
   "source": [
    "df.drop(['id', 'host_name', 'last_review'], axis=1, inplace=True)"
   ]
  },
  {
   "cell_type": "markdown",
   "metadata": {},
   "source": [
    "NOTE: The ‘id’ column is often dropped from a dataset during the data cleaning process, because it doesn’t provide any meaningful insights for the analysis.\n",
    "\n",
    "The ‘reviews_per_month’ column gives information about the number of reviews per month. Since a missing value means the item has no reviews for all time, it has 0 reviews per month."
   ]
  },
  {
   "cell_type": "code",
   "execution_count": 13,
   "metadata": {},
   "outputs": [],
   "source": [
    "df.fillna({'reviews_per_month': 0}, inplace=True)"
   ]
  },
  {
   "cell_type": "code",
   "execution_count": 14,
   "metadata": {},
   "outputs": [
    {
     "data": {
      "text/plain": [
       "name                              0\n",
       "host_id                           0\n",
       "neighbourhood_group               0\n",
       "neighbourhood                     0\n",
       "latitude                          0\n",
       "longitude                         0\n",
       "room_type                         0\n",
       "price                             0\n",
       "minimum_nights                    0\n",
       "number_of_reviews                 0\n",
       "reviews_per_month                 0\n",
       "calculated_host_listings_count    0\n",
       "availability_365                  0\n",
       "dtype: int64"
      ]
     },
     "execution_count": 14,
     "metadata": {},
     "output_type": "execute_result"
    }
   ],
   "source": [
    "df.isnull().sum()"
   ]
  },
  {
   "cell_type": "markdown",
   "metadata": {},
   "source": [
    "Now you can see that we solved the problem of missing values.\n",
    "\n",
    "### 2.4. Outliers\n",
    "Outliers are data points that are significantly different from other data points in a dataset. They can be much larger or much smaller than the other data points in the dataset and can distort the overall analysis of the data.\n",
    "\n",
    "There are different techniques to identify outliers, such as using boxplots, scatterplots, or mathematical methods such as the z-score or the interquartile range (IQR). Once outliers are identified, they can be dealt with by either removing them from the dataset, adjusting them to more reasonable values, or treating them as a separate category in the analysis."
   ]
  },
  {
   "cell_type": "code",
   "execution_count": 15,
   "metadata": {},
   "outputs": [
    {
     "data": {
      "text/html": [
       "<div><div id=00685e30-9cf3-44ed-b169-59903fc45d87 style=\"display:none; background-color:#9D6CFF; color:white; width:200px; height:30px; padding-left:5px; border-radius:4px; flex-direction:row; justify-content:space-around; align-items:center;\" onmouseover=\"this.style.backgroundColor='#BA9BF8'\" onmouseout=\"this.style.backgroundColor='#9D6CFF'\" onclick=\"window.commands?.execute('create-mitosheet-from-dataframe-output');\">See Full Dataframe in Mito</div> <script> if (window.commands?.hasCommand('create-mitosheet-from-dataframe-output')) document.getElementById('00685e30-9cf3-44ed-b169-59903fc45d87').style.display = 'flex' </script> <table border=\"1\" class=\"dataframe\">\n",
       "  <thead>\n",
       "    <tr style=\"text-align: right;\">\n",
       "      <th></th>\n",
       "      <th>host_id</th>\n",
       "      <th>latitude</th>\n",
       "      <th>longitude</th>\n",
       "      <th>price</th>\n",
       "      <th>minimum_nights</th>\n",
       "      <th>number_of_reviews</th>\n",
       "      <th>reviews_per_month</th>\n",
       "      <th>calculated_host_listings_count</th>\n",
       "      <th>availability_365</th>\n",
       "    </tr>\n",
       "  </thead>\n",
       "  <tbody>\n",
       "    <tr>\n",
       "      <th>count</th>\n",
       "      <td>4.889500e+04</td>\n",
       "      <td>48895.000000</td>\n",
       "      <td>48895.000000</td>\n",
       "      <td>48895.000000</td>\n",
       "      <td>48895.000000</td>\n",
       "      <td>48895.000000</td>\n",
       "      <td>48895.000000</td>\n",
       "      <td>48895.000000</td>\n",
       "      <td>48895.000000</td>\n",
       "    </tr>\n",
       "    <tr>\n",
       "      <th>mean</th>\n",
       "      <td>6.762001e+07</td>\n",
       "      <td>40.728949</td>\n",
       "      <td>-73.952170</td>\n",
       "      <td>152.720687</td>\n",
       "      <td>7.029962</td>\n",
       "      <td>23.274466</td>\n",
       "      <td>1.090910</td>\n",
       "      <td>7.143982</td>\n",
       "      <td>112.781327</td>\n",
       "    </tr>\n",
       "    <tr>\n",
       "      <th>std</th>\n",
       "      <td>7.861097e+07</td>\n",
       "      <td>0.054530</td>\n",
       "      <td>0.046157</td>\n",
       "      <td>240.154170</td>\n",
       "      <td>20.510550</td>\n",
       "      <td>44.550582</td>\n",
       "      <td>1.597283</td>\n",
       "      <td>32.952519</td>\n",
       "      <td>131.622289</td>\n",
       "    </tr>\n",
       "    <tr>\n",
       "      <th>min</th>\n",
       "      <td>2.438000e+03</td>\n",
       "      <td>40.499790</td>\n",
       "      <td>-74.244420</td>\n",
       "      <td>0.000000</td>\n",
       "      <td>1.000000</td>\n",
       "      <td>0.000000</td>\n",
       "      <td>0.000000</td>\n",
       "      <td>1.000000</td>\n",
       "      <td>0.000000</td>\n",
       "    </tr>\n",
       "    <tr>\n",
       "      <th>25%</th>\n",
       "      <td>7.822033e+06</td>\n",
       "      <td>40.690100</td>\n",
       "      <td>-73.983070</td>\n",
       "      <td>69.000000</td>\n",
       "      <td>1.000000</td>\n",
       "      <td>1.000000</td>\n",
       "      <td>0.040000</td>\n",
       "      <td>1.000000</td>\n",
       "      <td>0.000000</td>\n",
       "    </tr>\n",
       "    <tr>\n",
       "      <th>50%</th>\n",
       "      <td>3.079382e+07</td>\n",
       "      <td>40.723070</td>\n",
       "      <td>-73.955680</td>\n",
       "      <td>106.000000</td>\n",
       "      <td>3.000000</td>\n",
       "      <td>5.000000</td>\n",
       "      <td>0.370000</td>\n",
       "      <td>1.000000</td>\n",
       "      <td>45.000000</td>\n",
       "    </tr>\n",
       "    <tr>\n",
       "      <th>75%</th>\n",
       "      <td>1.074344e+08</td>\n",
       "      <td>40.763115</td>\n",
       "      <td>-73.936275</td>\n",
       "      <td>175.000000</td>\n",
       "      <td>5.000000</td>\n",
       "      <td>24.000000</td>\n",
       "      <td>1.580000</td>\n",
       "      <td>2.000000</td>\n",
       "      <td>227.000000</td>\n",
       "    </tr>\n",
       "    <tr>\n",
       "      <th>max</th>\n",
       "      <td>2.743213e+08</td>\n",
       "      <td>40.913060</td>\n",
       "      <td>-73.712990</td>\n",
       "      <td>10000.000000</td>\n",
       "      <td>1250.000000</td>\n",
       "      <td>629.000000</td>\n",
       "      <td>58.500000</td>\n",
       "      <td>327.000000</td>\n",
       "      <td>365.000000</td>\n",
       "    </tr>\n",
       "  </tbody>\n",
       "</table></div>"
      ],
      "text/plain": [
       "            host_id      latitude     longitude         price  minimum_nights  \\\n",
       "count  4.889500e+04  48895.000000  48895.000000  48895.000000    48895.000000   \n",
       "mean   6.762001e+07     40.728949    -73.952170    152.720687        7.029962   \n",
       "std    7.861097e+07      0.054530      0.046157    240.154170       20.510550   \n",
       "min    2.438000e+03     40.499790    -74.244420      0.000000        1.000000   \n",
       "25%    7.822033e+06     40.690100    -73.983070     69.000000        1.000000   \n",
       "50%    3.079382e+07     40.723070    -73.955680    106.000000        3.000000   \n",
       "75%    1.074344e+08     40.763115    -73.936275    175.000000        5.000000   \n",
       "max    2.743213e+08     40.913060    -73.712990  10000.000000     1250.000000   \n",
       "\n",
       "       number_of_reviews  reviews_per_month  calculated_host_listings_count  \\\n",
       "count       48895.000000       48895.000000                    48895.000000   \n",
       "mean           23.274466           1.090910                        7.143982   \n",
       "std            44.550582           1.597283                       32.952519   \n",
       "min             0.000000           0.000000                        1.000000   \n",
       "25%             1.000000           0.040000                        1.000000   \n",
       "50%             5.000000           0.370000                        1.000000   \n",
       "75%            24.000000           1.580000                        2.000000   \n",
       "max           629.000000          58.500000                      327.000000   \n",
       "\n",
       "       availability_365  \n",
       "count      48895.000000  \n",
       "mean         112.781327  \n",
       "std          131.622289  \n",
       "min            0.000000  \n",
       "25%            0.000000  \n",
       "50%           45.000000  \n",
       "75%          227.000000  \n",
       "max          365.000000  "
      ]
     },
     "execution_count": 15,
     "metadata": {},
     "output_type": "execute_result"
    }
   ],
   "source": [
    "# Statistics of the numerical columns in the DataFrame\n",
    "df.describe()"
   ]
  },
  {
   "cell_type": "markdown",
   "metadata": {},
   "source": [
    "Here are some observations from the output:\n",
    "\n",
    "- ‘price’: The minimum price is 0, which seems strange, and the maximum price is 10,000, which is significantly higher than the 75th percentile. It also has high standard deviation.\n",
    "- ‘minimum_nights’: The maximum value is 1,250, which is much higher than the 75th percentile.\n",
    "- ‘number_of_reviews’: The maximum value is 629, which is much higher than the 75th percentile.\n",
    "- ‘reviews_per_month’: The maximum value is 58.5, which is much higher than the 75th percentile.\n",
    "- ‘calculated_host_listings_count’: The maximum value is 327, which is much higher than the 75th percentile.\n",
    "\n",
    "All these factors indicate that there may be outliers in these columns.\n",
    "\n",
    "It is important to investigate these columns further to determine if there are indeed outliers and how they should be handled in the data analysis process.\n",
    "\n"
   ]
  },
  {
   "cell_type": "code",
   "execution_count": 16,
   "metadata": {},
   "outputs": [],
   "source": [
    "outlier_cols = [\n",
    "    'price', 'minimum_nights', 'number_of_reviews', \n",
    "    'reviews_per_month', 'calculated_host_listings_count'\n",
    "]"
   ]
  },
  {
   "cell_type": "code",
   "execution_count": 17,
   "metadata": {},
   "outputs": [
    {
     "data": {
      "image/png": "[encoded data removed]",
      "text/plain": [
       "<Figure size 500x500 with 1 Axes>"
      ]
     },
     "metadata": {},
     "output_type": "display_data"
    },
    {
     "data": {
      "image/png": "[encoded data removed]",
      "text/plain": [
       "<Figure size 500x500 with 1 Axes>"
      ]
     },
     "metadata": {},
     "output_type": "display_data"
    },
    {
     "data": {
      "image/png": "[encoded data removed]",
      "text/plain": [
       "<Figure size 500x500 with 1 Axes>"
      ]
     },
     "metadata": {},
     "output_type": "display_data"
    },
    {
     "data": {
      "image/png": "[encoded data removed]",
      "text/plain": [
       "<Figure size 500x500 with 1 Axes>"
      ]
     },
     "metadata": {},
     "output_type": "display_data"
    },
    {
     "data": {
      "image/png": "[encoded data removed]",
      "text/plain": [
       "<Figure size 500x500 with 1 Axes>"
      ]
     },
     "metadata": {},
     "output_type": "display_data"
    }
   ],
   "source": [
    "for col in outlier_cols:\n",
    "    plt.figure(figsize=(5, 5))\n",
    "    sns.boxplot(x=df[col])\n",
    "    plt.show()"
   ]
  },
  {
   "cell_type": "markdown",
   "metadata": {},
   "source": [
    "Now we see that there are indeed outliers in all of these columns.\n",
    "\n",
    "### 2.5. Z-score\n",
    "We can also try a Z-score method to discover outliers. This method uses the standard deviation of the data to calculate the number of standard deviations a data point is away from the mean. A data point that falls outside a certain range (typically, outside 3 standard deviations from the mean) is considered an outlier.\n",
    "\n",
    "Let’s find outliers in all numerical columns."
   ]
  },
  {
   "cell_type": "code",
   "execution_count": 18,
   "metadata": {},
   "outputs": [
    {
     "name": "stdout",
     "output_type": "stream",
     "text": [
      "latitude: 99\n",
      "longitude: 1236\n",
      "price: 388\n",
      "minimum_nights: 327\n",
      "number_of_reviews: 1221\n",
      "reviews_per_month: 847\n",
      "calculated_host_listings_count: 680\n"
     ]
    }
   ],
   "source": [
    "# Select numeric columns\n",
    "df_numeric = df.select_dtypes(include=[np.number])\n",
    "\n",
    "for col in df_numeric.columns:\n",
    "    # Calculate z-score of the column\n",
    "    z_score = np.abs(stats.zscore(df[col]))\n",
    "    outliers_num = len(np.where(z_score > 3)[0])\n",
    "    if outliers_num:\n",
    "        print('{}: {}'.format(col, outliers_num))"
   ]
  },
  {
   "cell_type": "markdown",
   "metadata": {},
   "source": [
    "This method helped us to find outliers that we didn’t see when analyzing the describe table."
   ]
  },
  {
   "cell_type": "code",
   "execution_count": 19,
   "metadata": {},
   "outputs": [
    {
     "data": {
      "image/png": "[encoded data removed]",
      "text/plain": [
       "<Figure size 640x480 with 1 Axes>"
      ]
     },
     "metadata": {},
     "output_type": "display_data"
    }
   ],
   "source": [
    "sns.boxplot(x=df['latitude']);"
   ]
  },
  {
   "cell_type": "code",
   "execution_count": 20,
   "metadata": {},
   "outputs": [
    {
     "data": {
      "image/png": "[encoded data removed]",
      "text/plain": [
       "<Figure size 640x480 with 1 Axes>"
      ]
     },
     "metadata": {},
     "output_type": "display_data"
    }
   ],
   "source": [
    "sns.boxplot(x=df['longitude']);"
   ]
  },
  {
   "cell_type": "markdown",
   "metadata": {},
   "source": [
    "### 2.6. Dealing with Outliers\n",
    "There are several ways to deal with outliers in a dataset:\n",
    "\n",
    "- Remove the outliers: You can simply remove the rows containing outliers from your dataset. However, this can also lead to loss of information and affect the accuracy of your model. So, you should be careful while removing the outliers and make sure you have a valid reason for doing so.\n",
    "- Replace the outliers: You can replace the outliers with a value that makes more sense, for example, the mean, median, or mode of the data. This method can help preserve the data and still reduce the effect of outliers.\n",
    "- Transform the data: You can transform the data using techniques like log transformation, box-cox transformation, etc. This can help in reducing the effect of outliers and also improve the distribution of the data.\n",
    "\n",
    "We can use Z-score method to remove outliers."
   ]
  },
  {
   "cell_type": "code",
   "execution_count": 21,
   "metadata": {},
   "outputs": [
    {
     "data": {
      "text/plain": [
       "(44475, 13)"
      ]
     },
     "execution_count": 21,
     "metadata": {},
     "output_type": "execute_result"
    }
   ],
   "source": [
    "z_scores = np.abs(stats.zscore(df_numeric))\n",
    "\n",
    "# DataFrame without outliers\n",
    "df_wo_outliers = df[(z_scores < 3).all(axis=1)]\n",
    "df_wo_outliers.shape"
   ]
  },
  {
   "cell_type": "markdown",
   "metadata": {},
   "source": [
    "Done!\n",
    "We have covered the basics of data cleaning, including how to check for and handle duplicates, how to deal with missing data, and how to identify and handle outliers.\n",
    "\n",
    "\n",
    "## 3. Data Exploration\n",
    "\n",
    "### 3.1. Calculating Rental Price Statistics\n",
    "\n",
    "In this code, we are performing calculations on the rental price data. The variable rental_price is assigned the values of the 'price' column from the DataFrame."
   ]
  },
  {
   "cell_type": "code",
   "execution_count": 26,
   "metadata": {},
   "outputs": [
    {
     "name": "stdout",
     "output_type": "stream",
     "text": [
      "The average rental price is: $ 138.6\n",
      "The maximum rental price is: $ 860\n",
      "The minimum rental price is: $ 0\n",
      "The standard deviation of rental prices is: $ 107.74\n",
      "The median rental price is: $ 105.0\n"
     ]
    }
   ],
   "source": [
    "# Assigning variable\n",
    "rental_price = df_wo_outliers.loc[:, 'price']\n",
    "\n",
    "#Calculate rental price statistics\n",
    "mean_rent = np.mean(rental_price)\n",
    "print('The average rental price is: $', round(mean_rent, 2))\n",
    "\n",
    "max_rent = np.max(rental_price)\n",
    "print('The maximum rental price is: $', round(max_rent, 2))\n",
    "\n",
    "min_rent = np.min(rental_price)\n",
    "print('The minimum rental price is: $', round(min_rent, 2))\n",
    "\n",
    "rent_std = np.std(rental_price)\n",
    "print('The standard deviation of rental prices is: $', round(rent_std, 2))\n",
    "\n",
    "median_rent = np.median(rental_price)\n",
    "print('The median rental price is: $', round(median_rent, 2))"
   ]
  },
  {
   "cell_type": "markdown",
   "metadata": {},
   "source": [
    "- <b>Mean</b> ($138.6): This value indicates that, on average, the rental prices in New York City are around $152.72. However, this value can be influenced by very expensive or very cheap rentals, distorting the average.\n",
    "\n",
    "- <b>Maximum Value</b> ($860): This is the highest rental price listed in New York City. The previous maximum (10000) was an extreme value and didn't represent the reality of the majority of rentals and therefore was removed because it was an outlier.\n",
    "\n",
    "- <b>Minimum Value</B> ($0): This value indicates that there are listings for accommodations that are free. This could be a data entry error or a specific promotion.\n",
    "\n",
    "- <b>Standard Deviation</b> ($107.74): This high value indicates that there is a large variation in rental prices. In other words, while some rentals are very cheap, others are very expensive.\n",
    "\n",
    "- <b>Median</b> ($105): This value indicates that half of the rentals in New York City cost less than $106, and the other half cost more. The median is less sensitive to extreme values and can be a better representation of the “typical rent”.\n",
    "\n",
    "In summary, rental prices in New York City vary greatly, with some extremely expensive rentals inflating the average. However, the majority of rentals appear to be more affordable, as indicated by the median of $106. The presence of free rentals is intriguing and may be worth further investigation."
   ]
  },
  {
   "cell_type": "code",
   "execution_count": null,
   "metadata": {},
   "outputs": [],
   "source": []
  }
 ],
 "metadata": {
  "kernelspec": {
   "display_name": "dataenv",
   "language": "python",
   "name": "python3"
  },
  "language_info": {
   "codemirror_mode": {
    "name": "ipython",
    "version": 3
   },
   "file_extension": ".py",
   "mimetype": "text/x-python",
   "name": "python",
   "nbconvert_exporter": "python",
   "pygments_lexer": "ipython3",
   "version": "3.10.4"
  },
  "orig_nbformat": 4
 },
 "nbformat": 4,
 "nbformat_minor": 2
}
