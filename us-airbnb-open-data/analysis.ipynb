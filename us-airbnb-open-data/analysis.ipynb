{
 "cells": [
  {
   "cell_type": "markdown",
   "metadata": {},
   "source": [
    "In this exploration, we wield Python and its potent libraries, including pandas, numpy, matplotlib, and seaborn, to navigate the “Hawaii Airbnb Open Data” dataset. Our mission: to understand the dynamics of Hawaii’s Airbnb market and extract key insights.\n",
    "\n",
    "Through this journey, we unravel regional trends, guest preferences, and booking patterns, crafting a nuanced narrative of Hawaii’s Airbnb ecosystem. This project serves as a testament to Python’s data analysis prowess and a deep dive into Hawaii’s vibrant Airbnb landscape. Let’s explore together!\n",
    "\n",
    "### Importing Libraries\n",
    "In this code block we are importing all the necessary libraries for this analysis:"
   ]
  },
  {
   "cell_type": "code",
   "execution_count": 1,
   "metadata": {},
   "outputs": [],
   "source": [
    "import folium as fl\n",
    "import matplotlib.pyplot as plt\n",
    "import numpy as np\n",
    "import pandas as pd\n",
    "import plotly.express as px\n",
    "import plotly.graph_objects as go\n",
    "import seaborn as sns\n",
    "import time"
   ]
  },
  {
   "cell_type": "markdown",
   "metadata": {},
   "source": [
    "### Reading and Viewing CSV Data\n",
    "In the first step of our analysis, we loaded our Airbnb listings dataset using the pandas function read_csv. This function reads the CSV file and converts it into a pandas DataFrame. After loading the data, we used the head function to display the first five rows of the DataFrame. This provides us with a quick overview of our data, showing us the column names and some example values from each column."
   ]
  },
  {
   "cell_type": "code",
   "execution_count": 2,
   "metadata": {},
   "outputs": [
    {
     "name": "stderr",
     "output_type": "stream",
     "text": [
      "/var/folders/6x/sp_vy0g12kv_vw9114lrmss40000gn/T/ipykernel_30358/1902848564.py:1: DtypeWarning: Columns (4) have mixed types. Specify dtype option on import or set low_memory=False.\n",
      "  df = pd.read_csv(\"/Users/diogosilva/Documents/GitHub/datasets/U.S. Airbnb Open Data/AB_US_2020.csv\")\n"
     ]
    },
    {
     "data": {
      "text/html": [
       "<div><div id=b917ea12-406a-450a-949b-8d4d5ca27999 style=\"display:none; background-color:#9D6CFF; color:white; width:200px; height:30px; padding-left:5px; border-radius:4px; flex-direction:row; justify-content:space-around; align-items:center;\" onmouseover=\"this.style.backgroundColor='#BA9BF8'\" onmouseout=\"this.style.backgroundColor='#9D6CFF'\" onclick=\"window.commands?.execute('create-mitosheet-from-dataframe-output');\">See Full Dataframe in Mito</div> <script> if (window.commands?.hasCommand('create-mitosheet-from-dataframe-output')) document.getElementById('b917ea12-406a-450a-949b-8d4d5ca27999').style.display = 'flex' </script> <table border=\"1\" class=\"dataframe\">\n",
       "  <thead>\n",
       "    <tr style=\"text-align: right;\">\n",
       "      <th></th>\n",
       "      <th>id</th>\n",
       "      <th>name</th>\n",
       "      <th>host_id</th>\n",
       "      <th>host_name</th>\n",
       "      <th>neighbourhood_group</th>\n",
       "      <th>neighbourhood</th>\n",
       "      <th>latitude</th>\n",
       "      <th>longitude</th>\n",
       "      <th>room_type</th>\n",
       "      <th>price</th>\n",
       "      <th>minimum_nights</th>\n",
       "      <th>number_of_reviews</th>\n",
       "      <th>last_review</th>\n",
       "      <th>reviews_per_month</th>\n",
       "      <th>calculated_host_listings_count</th>\n",
       "      <th>availability_365</th>\n",
       "      <th>city</th>\n",
       "    </tr>\n",
       "  </thead>\n",
       "  <tbody>\n",
       "    <tr>\n",
       "      <th>0</th>\n",
       "      <td>38585</td>\n",
       "      <td>Charming Victorian home - twin beds + breakfast</td>\n",
       "      <td>165529</td>\n",
       "      <td>Evelyne</td>\n",
       "      <td>NaN</td>\n",
       "      <td>28804</td>\n",
       "      <td>35.65146</td>\n",
       "      <td>-82.62792</td>\n",
       "      <td>Private room</td>\n",
       "      <td>60</td>\n",
       "      <td>1</td>\n",
       "      <td>138</td>\n",
       "      <td>16/02/20</td>\n",
       "      <td>1.14</td>\n",
       "      <td>1</td>\n",
       "      <td>0</td>\n",
       "      <td>Asheville</td>\n",
       "    </tr>\n",
       "    <tr>\n",
       "      <th>1</th>\n",
       "      <td>80905</td>\n",
       "      <td>French Chic Loft</td>\n",
       "      <td>427027</td>\n",
       "      <td>Celeste</td>\n",
       "      <td>NaN</td>\n",
       "      <td>28801</td>\n",
       "      <td>35.59779</td>\n",
       "      <td>-82.55540</td>\n",
       "      <td>Entire home/apt</td>\n",
       "      <td>470</td>\n",
       "      <td>1</td>\n",
       "      <td>114</td>\n",
       "      <td>07/09/20</td>\n",
       "      <td>1.03</td>\n",
       "      <td>11</td>\n",
       "      <td>288</td>\n",
       "      <td>Asheville</td>\n",
       "    </tr>\n",
       "    <tr>\n",
       "      <th>2</th>\n",
       "      <td>108061</td>\n",
       "      <td>Walk to stores/parks/downtown. Fenced yard/Pets OK</td>\n",
       "      <td>320564</td>\n",
       "      <td>Lisa</td>\n",
       "      <td>NaN</td>\n",
       "      <td>28801</td>\n",
       "      <td>35.60670</td>\n",
       "      <td>-82.55563</td>\n",
       "      <td>Entire home/apt</td>\n",
       "      <td>75</td>\n",
       "      <td>30</td>\n",
       "      <td>89</td>\n",
       "      <td>30/11/19</td>\n",
       "      <td>0.81</td>\n",
       "      <td>2</td>\n",
       "      <td>298</td>\n",
       "      <td>Asheville</td>\n",
       "    </tr>\n",
       "    <tr>\n",
       "      <th>3</th>\n",
       "      <td>155305</td>\n",
       "      <td>Cottage! BonPaul + Sharky's Hostel</td>\n",
       "      <td>746673</td>\n",
       "      <td>BonPaul</td>\n",
       "      <td>NaN</td>\n",
       "      <td>28806</td>\n",
       "      <td>35.57864</td>\n",
       "      <td>-82.59578</td>\n",
       "      <td>Entire home/apt</td>\n",
       "      <td>90</td>\n",
       "      <td>1</td>\n",
       "      <td>267</td>\n",
       "      <td>22/09/20</td>\n",
       "      <td>2.39</td>\n",
       "      <td>5</td>\n",
       "      <td>0</td>\n",
       "      <td>Asheville</td>\n",
       "    </tr>\n",
       "    <tr>\n",
       "      <th>4</th>\n",
       "      <td>160594</td>\n",
       "      <td>Historic Grove Park</td>\n",
       "      <td>769252</td>\n",
       "      <td>Elizabeth</td>\n",
       "      <td>NaN</td>\n",
       "      <td>28801</td>\n",
       "      <td>35.61442</td>\n",
       "      <td>-82.54127</td>\n",
       "      <td>Private room</td>\n",
       "      <td>125</td>\n",
       "      <td>30</td>\n",
       "      <td>58</td>\n",
       "      <td>19/10/15</td>\n",
       "      <td>0.52</td>\n",
       "      <td>1</td>\n",
       "      <td>0</td>\n",
       "      <td>Asheville</td>\n",
       "    </tr>\n",
       "  </tbody>\n",
       "</table></div>"
      ],
      "text/plain": [
       "       id                                               name  host_id  \\\n",
       "0   38585    Charming Victorian home - twin beds + breakfast   165529   \n",
       "1   80905                                   French Chic Loft   427027   \n",
       "2  108061  Walk to stores/parks/downtown. Fenced yard/Pet...   320564   \n",
       "3  155305                 Cottage! BonPaul + Sharky's Hostel   746673   \n",
       "4  160594                                Historic Grove Park   769252   \n",
       "\n",
       "   host_name neighbourhood_group neighbourhood  latitude  longitude  \\\n",
       "0    Evelyne                 NaN         28804  35.65146  -82.62792   \n",
       "1    Celeste                 NaN         28801  35.59779  -82.55540   \n",
       "2       Lisa                 NaN         28801  35.60670  -82.55563   \n",
       "3    BonPaul                 NaN         28806  35.57864  -82.59578   \n",
       "4  Elizabeth                 NaN         28801  35.61442  -82.54127   \n",
       "\n",
       "         room_type  price  minimum_nights  number_of_reviews last_review  \\\n",
       "0     Private room     60               1                138    16/02/20   \n",
       "1  Entire home/apt    470               1                114    07/09/20   \n",
       "2  Entire home/apt     75              30                 89    30/11/19   \n",
       "3  Entire home/apt     90               1                267    22/09/20   \n",
       "4     Private room    125              30                 58    19/10/15   \n",
       "\n",
       "   reviews_per_month  calculated_host_listings_count  availability_365  \\\n",
       "0               1.14                               1                 0   \n",
       "1               1.03                              11               288   \n",
       "2               0.81                               2               298   \n",
       "3               2.39                               5                 0   \n",
       "4               0.52                               1                 0   \n",
       "\n",
       "        city  \n",
       "0  Asheville  \n",
       "1  Asheville  \n",
       "2  Asheville  \n",
       "3  Asheville  \n",
       "4  Asheville  "
      ]
     },
     "execution_count": 2,
     "metadata": {},
     "output_type": "execute_result"
    }
   ],
   "source": [
    "df = pd.read_csv(\"/Users/diogosilva/Documents/GitHub/datasets/U.S. Airbnb Open Data/AB_US_2020.csv\")\n",
    "df.head()"
   ]
  },
  {
   "cell_type": "markdown",
   "metadata": {},
   "source": [
    "### Inspecting the Shape of the Data\n",
    "The shape attribute of a pandas DataFrame returns a tuple representing the dimensions of the DataFrame. Here is the code:"
   ]
  },
  {
   "cell_type": "code",
   "execution_count": 3,
   "metadata": {},
   "outputs": [
    {
     "data": {
      "text/plain": [
       "(226030, 17)"
      ]
     },
     "execution_count": 3,
     "metadata": {},
     "output_type": "execute_result"
    }
   ],
   "source": [
    "df.shape"
   ]
  },
  {
   "cell_type": "markdown",
   "metadata": {},
   "source": [
    "The tuple returned (226030, 17). This means the DataFrame has 226,030 rows and 17 columns.\n",
    "\n",
    "### Extract Column Names\n",
    "The expression list(data.columns) converts the column names of a pandas DataFrame into a list."
   ]
  },
  {
   "cell_type": "code",
   "execution_count": 4,
   "metadata": {},
   "outputs": [
    {
     "data": {
      "text/plain": [
       "['id',\n",
       " 'name',\n",
       " 'host_id',\n",
       " 'host_name',\n",
       " 'neighbourhood_group',\n",
       " 'neighbourhood',\n",
       " 'latitude',\n",
       " 'longitude',\n",
       " 'room_type',\n",
       " 'price',\n",
       " 'minimum_nights',\n",
       " 'number_of_reviews',\n",
       " 'last_review',\n",
       " 'reviews_per_month',\n",
       " 'calculated_host_listings_count',\n",
       " 'availability_365',\n",
       " 'city']"
      ]
     },
     "execution_count": 4,
     "metadata": {},
     "output_type": "execute_result"
    }
   ],
   "source": [
    "list(df.columns)"
   ]
  },
  {
   "cell_type": "markdown",
   "metadata": {},
   "source": [
    "Leveraging the list() function on df.columns elegantly transforms the column names from a pandas Index object into a standard Python list. This transformation empowers us with greater flexibility to access and manipulate these column names.\n",
    "\n",
    "This snippet of code proves instrumental when we wish to scrutinize or manipulate the column names of our DataFrame. It is particularly handy when we need to cherry-pick specific columns for analysis or visualization, offering us an efficient and straightforward way to engage with our dataset.\n",
    "\n",
    "### Rent Statistics\n",
    "In the code block below, we are conducting a statistical analysis of the ‘price’ column from our dataframe. The describe() function is used to generate a comprehensive set of descriptive statistics, which include measures such as the count, mean, standard deviation, minimum, 25th percentile (Q1), median (50th percentile), 75th percentile (Q3), and maximum. The output from describe() is stored in the price_stats variable for future reference. Finally, we print the price_stats variable to display these calculated statistics, providing an informative summary of the distribution of prices in our dataset.\n",
    "\n"
   ]
  },
  {
   "cell_type": "code",
   "execution_count": 5,
   "metadata": {},
   "outputs": [
    {
     "data": {
      "text/plain": [
       "count    226030.000000\n",
       "mean        219.716529\n",
       "std         570.353609\n",
       "min           0.000000\n",
       "25%          75.000000\n",
       "50%         121.000000\n",
       "75%         201.000000\n",
       "max       24999.000000\n",
       "Name: price, dtype: float64"
      ]
     },
     "execution_count": 5,
     "metadata": {},
     "output_type": "execute_result"
    }
   ],
   "source": [
    "# Clean the price column and convert it to a float\n",
    "df['price'] = df['price'].replace('[\\$,]', '', regex=True).astype(float)\n",
    "\n",
    "# Get basic statistics for the price\n",
    "price_stats = df['price'].describe()\n",
    "\n",
    "price_stats"
   ]
  },
  {
   "cell_type": "markdown",
   "metadata": {},
   "source": [
    "The average price of a listing is approximately $219, with a standard deviation of around $570. This large standard deviation suggests a wide distribution of prices, which is confirmed by the maximum price of $24,999 and the minimum price of $0.\n",
    "\n",
    "However, the 50% quartile (median) price is $121, and 75% of the listings have a price lower than $201. These figures suggest that there are a few listings with extremely high prices, which are skewing the mean."
   ]
  },
  {
   "cell_type": "code",
   "execution_count": 6,
   "metadata": {},
   "outputs": [
    {
     "data": {
      "image/png": "[encoded data removed]",
      "text/plain": [
       "<Figure size 1000x600 with 1 Axes>"
      ]
     },
     "metadata": {},
     "output_type": "display_data"
    }
   ],
   "source": [
    "# Set the style to dark\n",
    "plt.style.use(\"dark_background\")\n",
    "\n",
    "# Create a histogram for the distribution of prices\n",
    "plt.figure(figsize=(10, 6))\n",
    "n, bins, patches = plt.hist(df['price'], bins=50, color='darkblue')\n",
    "\n",
    "# Define a color palette\n",
    "cmap = sns.color_palette(\"Blues_r\", as_cmap=True)\n",
    "\n",
    "# Scale values to interval [0,1]\n",
    "col = (bins[:-1] + bins[1:]) / 2\n",
    "col -= min(col)\n",
    "col /= max(col)\n",
    "\n",
    "# Apply the color palette to the bars\n",
    "for c, p in zip(col, patches):\n",
    "    plt.setp(p, 'facecolor', cmap(c))\n",
    "\n",
    "plt.title('Distribution of Prices', color='white')\n",
    "plt.xlabel('Price', color='white')\n",
    "plt.ylabel('Frequency', color='white')\n",
    "plt.show()"
   ]
  },
  {
   "cell_type": "markdown",
   "metadata": {},
   "source": [
    "In this code block we are creating our visualization for the rent price distribution and applying a dark background theme as well as a gradient which we will be using for all the visuals of this project. The histogram above displays the distribution of prices, but it’s hard to discern anything from it due to the extreme values or outliers.\n",
    "\n",
    "To deal with this issue, let’s plot another histogram, this time only including listings with a price less than $1000, which should cover a substantial majority of the listings. This will give us a better sense of the distribution for most listings."
   ]
  },
  {
   "cell_type": "code",
   "execution_count": 10,
   "metadata": {},
   "outputs": [
    {
     "data": {
      "image/png": "[encoded data removed]",
      "text/plain": [
       "<Figure size 1000x600 with 1 Axes>"
      ]
     },
     "metadata": {},
     "output_type": "display_data"
    }
   ],
   "source": [
    "# Set the style to dark\n",
    "plt.style.use(\"dark_background\")\n",
    "\n",
    "plt.figure(figsize=(10, 6))\n",
    "\n",
    "filtered_df = df[df['price'] < 1000]\n",
    "\n",
    "# Create a histogram for the distribution of filtered prices\n",
    "n, bins, patches = plt.hist(filtered_df['price'], bins=50)\n",
    "\n",
    "# Scale values to interval [0,1]\n",
    "col = (bins[:-1] + bins[1:]) / 2\n",
    "col -= min(col)\n",
    "col /= max(col)\n",
    "\n",
    "# Apply the color palette to bars\n",
    "for c, p in zip(col, patches):\n",
    "    plt.setp(p, 'facecolor', cmap(c))\n",
    "\n",
    "plt.title('Distribution of Prices (less than $1000)', color='white')\n",
    "plt.xlabel('Price', color='white')\n",
    "plt.ylabel('Frequency', color='white')\n",
    "plt.show()"
   ]
  },
  {
   "cell_type": "code",
   "execution_count": null,
   "metadata": {},
   "outputs": [],
   "source": []
  }
 ],
 "metadata": {
  "kernelspec": {
   "display_name": "dataenv",
   "language": "python",
   "name": "python3"
  },
  "language_info": {
   "codemirror_mode": {
    "name": "ipython",
    "version": 3
   },
   "file_extension": ".py",
   "mimetype": "text/x-python",
   "name": "python",
   "nbconvert_exporter": "python",
   "pygments_lexer": "ipython3",
   "version": "3.10.4"
  },
  "orig_nbformat": 4
 },
 "nbformat": 4,
 "nbformat_minor": 2
}
