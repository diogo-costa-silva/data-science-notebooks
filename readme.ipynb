{
 "cells": [
  {
   "cell_type": "markdown",
   "metadata": {},
   "source": [
    "# Jupyter Notebooks\n",
    "\n",
    "### Welcome to my Notebooks page. \n",
    "\n",
    "This peaces of work were made using local Jupyter Notebooks or in Kaggle, which are all available.\n",
    "\n",
    "\n",
    "\n",
    "1. Moto GP World Championships from 1949 to 2022 - https://github.com/diogo-costa-silva/Data-Science/tree/main/notebooks/moto-gp-championships-1949-2022\n",
    "[![Open In Colab](https://colab.research.google.com/assets/colab-badge.svg)](https://colab.research.google.com/github/diogo-costa-silva/Data-Science/blob/main/notebooks/titanic_analysis.ipynb)\n",
    "\n",
    "\n",
    "2. US AirBnB Open Data Analysis - https://github.com/diogo-costa-silva/Data-Science/tree/main/notebooks/us-airbnb-open-data\n",
    "[![Open In Colab](https://colab.research.google.com/assets/colab-badge.svg)](https://colab.research.google.com/github/diogo-costa-silva/Data-Science/blob/main/notebooks/titanic_analysis.ipynb)\n",
    "\n",
    "\n",
    "3. Moto GP World Championships from 1949 to 2022 - https://github.com/diogo-costa-silva/Data-Science/tree/main/notebooks/moto-gp-championships-1949-2022\n",
    "[![Open In Colab](https://colab.research.google.com/assets/colab-badge.svg)](https://colab.research.google.com/github/diogo-costa-silva/Data-Science/blob/main/notebooks/titanic_analysis.ipynb)\n",
    "\n",
    "4. Questionário Rui Lopes - https://github.com/diogo-costa-silva/Data-Science/tree/main/notebooks/questionario_seringas\n",
    "[![Open In Colab](https://colab.research.google.com/assets/colab-badge.svg)](https://colab.research.google.com/github/diogo-costa-silva/Data-Science/blob/main/notebooks/titanic_analysis.ipynb)\n",
    "\n",
    "\n"
   ]
  },
  {
   "cell_type": "markdown",
   "metadata": {},
   "source": []
  }
 ],
 "metadata": {
  "language_info": {
   "name": "python"
  },
  "orig_nbformat": 4
 },
 "nbformat": 4,
 "nbformat_minor": 2
}
