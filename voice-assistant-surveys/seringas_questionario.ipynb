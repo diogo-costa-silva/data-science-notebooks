{
  "cells": [
    {
      "cell_type": "markdown",
      "metadata": {
        "colab_type": "text",
        "id": "view-in-github"
      },
      "source": [
        "<a href=\"https://colab.research.google.com/github/diogo-costa-silva/Data-Science/blob/main/seringas_questionario.ipynb\" target=\"_parent\"><img src=\"https://colab.research.google.com/assets/colab-badge.svg\" alt=\"Open In Colab\"/></a>"
      ]
    },
    {
      "cell_type": "markdown",
      "metadata": {
        "id": "g7QSd0oq3vnS"
      },
      "source": [
        "## Analise dos questionários"
      ]
    },
    {
      "cell_type": "code",
      "execution_count": 1,
      "metadata": {
        "id": "Xevm0Mte31D9"
      },
      "outputs": [],
      "source": [
        "import pandas as pd\n",
        "import numpy as np\n"
      ]
    },
    {
      "cell_type": "code",
      "execution_count": 2,
      "metadata": {
        "id": "hY9-B1B333On"
      },
      "outputs": [],
      "source": [
        "# Load the data from the CSV file\n",
        "df = pd.read_csv('/Users/diogosilva/Documents/GitHub/Data-Science/notebooks/questionario_seringas/resultados_questionario_seringas.csv', sep=',')"
      ]
    },
    {
      "cell_type": "code",
      "execution_count": 3,
      "metadata": {
        "colab": {
          "base_uri": "https://localhost:8080/",
          "height": 664
        },
        "id": "qHEBI__P4fls",
        "outputId": "ce6739ca-90d6-4588-d2c7-534264eae359"
      },
      "outputs": [
        {
          "data": {
            "text/html": [
              "<div><div id=39f5ea8c-fc96-48e0-845a-5fc532977c18 style=\"display:none; background-color:#9D6CFF; color:white; width:200px; height:30px; padding-left:5px; border-radius:4px; flex-direction:row; justify-content:space-around; align-items:center;\" onmouseover=\"this.style.backgroundColor='#BA9BF8'\" onmouseout=\"this.style.backgroundColor='#9D6CFF'\" onclick=\"window.commands?.execute('create-mitosheet-from-dataframe-output');\">See Full Dataframe in Mito</div> <script> if (window.commands?.hasCommand('create-mitosheet-from-dataframe-output')) document.getElementById('39f5ea8c-fc96-48e0-845a-5fc532977c18').style.display = 'flex' </script> <table border=\"1\" class=\"dataframe\">\n",
              "  <thead>\n",
              "    <tr style=\"text-align: right;\">\n",
              "      <th></th>\n",
              "      <th>Carimbo de data/hora</th>\n",
              "      <th>Tem um Assistente de Voz Virtual?</th>\n",
              "      <th>Se sim, qual?</th>\n",
              "      <th>Utiliza o Assistente de Voz Virtual?</th>\n",
              "      <th>[O assistente de voz virtual é útil para mim]</th>\n",
              "      <th>[O assistente de voz virtual pode ajudar-me em várias tarefas]</th>\n",
              "      <th>[O meu assistente de voz virtual oferece-me boa qualidade de informação]</th>\n",
              "      <th>[A minha eficiência em tempo melhora quando procuro por informação no assistente de voz virtual]</th>\n",
              "      <th>[No geral, considero o assistente de voz virtual uma ferramenta útil]</th>\n",
              "      <th>[Aprender a usar o meu assistente de voz virtual foi fácil para mim]</th>\n",
              "      <th>...</th>\n",
              "      <th>[Acredito que um assistente de voz virtual possa ser eficaz em detetar e prevenir ameaças à minha cibersegurança]</th>\n",
              "      <th>[A perceção da cibersegurança é importante para a minha futura compra/utilização de um assistente de voz virtual]</th>\n",
              "      <th>[Acredito que me coloco em risco se utilizar tecnologia inovadora como um assistente de voz virtual]</th>\n",
              "      <th>[Acredito que me coloco em risco se utilizar tecnologia que envolvem os meus dados pessoais como um assistente de voz virtual]</th>\n",
              "      <th>[Considero que a minha privacidade vai estar em risco case utilize um assistente de voz virtual]</th>\n",
              "      <th>[Informo-me sobre os riscos associados à utilização de um assistente de voz virtual]</th>\n",
              "      <th>Idade</th>\n",
              "      <th>Sexo</th>\n",
              "      <th>Habilitações Literárias</th>\n",
              "      <th>Se vive em Portugal, em que zona?</th>\n",
              "    </tr>\n",
              "  </thead>\n",
              "  <tbody>\n",
              "    <tr>\n",
              "      <th>0</th>\n",
              "      <td>2023/04/06 15:48:52</td>\n",
              "      <td>Sim</td>\n",
              "      <td>Amazon Alexa</td>\n",
              "      <td>Sim</td>\n",
              "      <td>Concordo</td>\n",
              "      <td>Concordo</td>\n",
              "      <td>Concordo</td>\n",
              "      <td>Concordo</td>\n",
              "      <td>Concordo</td>\n",
              "      <td>Concordo</td>\n",
              "      <td>...</td>\n",
              "      <td>NaN</td>\n",
              "      <td>NaN</td>\n",
              "      <td>NaN</td>\n",
              "      <td>NaN</td>\n",
              "      <td>NaN</td>\n",
              "      <td>NaN</td>\n",
              "      <td>30-39</td>\n",
              "      <td>Feminino</td>\n",
              "      <td>Doutoramento</td>\n",
              "      <td>Norte</td>\n",
              "    </tr>\n",
              "    <tr>\n",
              "      <th>1</th>\n",
              "      <td>2023/04/06 17:15:57</td>\n",
              "      <td>Não</td>\n",
              "      <td>NaN</td>\n",
              "      <td>Não</td>\n",
              "      <td>Discordo completamente</td>\n",
              "      <td>Não concordo, nem discordo</td>\n",
              "      <td>Não concordo, nem discordo</td>\n",
              "      <td>Não concordo, nem discordo</td>\n",
              "      <td>Não concordo, nem discordo</td>\n",
              "      <td>Não concordo, nem discordo</td>\n",
              "      <td>...</td>\n",
              "      <td>NaN</td>\n",
              "      <td>NaN</td>\n",
              "      <td>NaN</td>\n",
              "      <td>NaN</td>\n",
              "      <td>NaN</td>\n",
              "      <td>NaN</td>\n",
              "      <td>18-29</td>\n",
              "      <td>Masculino</td>\n",
              "      <td>Licenciatura</td>\n",
              "      <td>Norte</td>\n",
              "    </tr>\n",
              "    <tr>\n",
              "      <th>2</th>\n",
              "      <td>2023/04/06 18:40:21</td>\n",
              "      <td>Sim</td>\n",
              "      <td>Amazon Alexa</td>\n",
              "      <td>Sim</td>\n",
              "      <td>Discordo completamente</td>\n",
              "      <td>Discordo completamente</td>\n",
              "      <td>Discordo completamente</td>\n",
              "      <td>Discordo completamente</td>\n",
              "      <td>Discordo completamente</td>\n",
              "      <td>Concordo completamente</td>\n",
              "      <td>...</td>\n",
              "      <td>NaN</td>\n",
              "      <td>NaN</td>\n",
              "      <td>NaN</td>\n",
              "      <td>NaN</td>\n",
              "      <td>NaN</td>\n",
              "      <td>NaN</td>\n",
              "      <td>40-49</td>\n",
              "      <td>Masculino</td>\n",
              "      <td>Mestrado</td>\n",
              "      <td>Norte</td>\n",
              "    </tr>\n",
              "    <tr>\n",
              "      <th>3</th>\n",
              "      <td>2023/04/06 20:22:15</td>\n",
              "      <td>Sim</td>\n",
              "      <td>Google Assistant</td>\n",
              "      <td>Sim</td>\n",
              "      <td>Concordo</td>\n",
              "      <td>Concordo</td>\n",
              "      <td>Concordo</td>\n",
              "      <td>Concordo completamente</td>\n",
              "      <td>Concordo</td>\n",
              "      <td>Concordo completamente</td>\n",
              "      <td>...</td>\n",
              "      <td>NaN</td>\n",
              "      <td>NaN</td>\n",
              "      <td>NaN</td>\n",
              "      <td>NaN</td>\n",
              "      <td>NaN</td>\n",
              "      <td>NaN</td>\n",
              "      <td>18-29</td>\n",
              "      <td>Feminino</td>\n",
              "      <td>Licenciatura</td>\n",
              "      <td>Norte</td>\n",
              "    </tr>\n",
              "    <tr>\n",
              "      <th>4</th>\n",
              "      <td>2023/04/06 21:13:34</td>\n",
              "      <td>Não</td>\n",
              "      <td>NaN</td>\n",
              "      <td>Não</td>\n",
              "      <td>NaN</td>\n",
              "      <td>NaN</td>\n",
              "      <td>NaN</td>\n",
              "      <td>NaN</td>\n",
              "      <td>NaN</td>\n",
              "      <td>NaN</td>\n",
              "      <td>...</td>\n",
              "      <td>Discordo</td>\n",
              "      <td>Concordo completamente</td>\n",
              "      <td>Não concordo, nem discordo</td>\n",
              "      <td>Concordo</td>\n",
              "      <td>Concordo</td>\n",
              "      <td>Concordo completamente</td>\n",
              "      <td>18-29</td>\n",
              "      <td>Masculino</td>\n",
              "      <td>Licenciatura</td>\n",
              "      <td>Norte</td>\n",
              "    </tr>\n",
              "  </tbody>\n",
              "</table></div>"
            ],
            "text/plain": [
              "  Carimbo de data/hora Tem um Assistente de Voz Virtual?    Se sim, qual?   \\\n",
              "0  2023/04/06 15:48:52                               Sim      Amazon Alexa   \n",
              "1  2023/04/06 17:15:57                               Não               NaN   \n",
              "2  2023/04/06 18:40:21                               Sim      Amazon Alexa   \n",
              "3  2023/04/06 20:22:15                               Sim  Google Assistant   \n",
              "4  2023/04/06 21:13:34                               Não               NaN   \n",
              "\n",
              "  Utiliza o Assistente de Voz Virtual?   \\\n",
              "0                                   Sim   \n",
              "1                                   Não   \n",
              "2                                   Sim   \n",
              "3                                   Sim   \n",
              "4                                   Não   \n",
              "\n",
              "   [O assistente de voz virtual é útil para mim]  \\\n",
              "0                                       Concordo   \n",
              "1                         Discordo completamente   \n",
              "2                         Discordo completamente   \n",
              "3                                       Concordo   \n",
              "4                                            NaN   \n",
              "\n",
              "   [O assistente de voz virtual pode ajudar-me em várias tarefas]  \\\n",
              "0                                           Concordo                \n",
              "1                         Não concordo, nem discordo                \n",
              "2                             Discordo completamente                \n",
              "3                                           Concordo                \n",
              "4                                                NaN                \n",
              "\n",
              "   [O meu assistente de voz virtual oferece-me boa qualidade de informação]  \\\n",
              "0                                           Concordo                          \n",
              "1                         Não concordo, nem discordo                          \n",
              "2                             Discordo completamente                          \n",
              "3                                           Concordo                          \n",
              "4                                                NaN                          \n",
              "\n",
              "   [A minha eficiência em tempo melhora quando procuro por informação no assistente de voz virtual]  \\\n",
              "0                                           Concordo                                                  \n",
              "1                         Não concordo, nem discordo                                                  \n",
              "2                             Discordo completamente                                                  \n",
              "3                             Concordo completamente                                                  \n",
              "4                                                NaN                                                  \n",
              "\n",
              "   [No geral, considero o assistente de voz virtual uma ferramenta útil]  \\\n",
              "0                                           Concordo                       \n",
              "1                         Não concordo, nem discordo                       \n",
              "2                             Discordo completamente                       \n",
              "3                                           Concordo                       \n",
              "4                                                NaN                       \n",
              "\n",
              "   [Aprender a usar o meu assistente de voz virtual foi fácil para mim]  ...  \\\n",
              "0                                           Concordo                     ...   \n",
              "1                         Não concordo, nem discordo                     ...   \n",
              "2                             Concordo completamente                     ...   \n",
              "3                             Concordo completamente                     ...   \n",
              "4                                                NaN                     ...   \n",
              "\n",
              "   [Acredito que um assistente de voz virtual possa ser eficaz em detetar e prevenir ameaças à minha cibersegurança]  \\\n",
              "0                                                NaN                                                                   \n",
              "1                                                NaN                                                                   \n",
              "2                                                NaN                                                                   \n",
              "3                                                NaN                                                                   \n",
              "4                                           Discordo                                                                   \n",
              "\n",
              "   [A perceção da cibersegurança é importante para a minha futura compra/utilização de um assistente de voz virtual]  \\\n",
              "0                                                NaN                                                                   \n",
              "1                                                NaN                                                                   \n",
              "2                                                NaN                                                                   \n",
              "3                                                NaN                                                                   \n",
              "4                             Concordo completamente                                                                   \n",
              "\n",
              "   [Acredito que me coloco em risco se utilizar tecnologia inovadora como um assistente de voz virtual]  \\\n",
              "0                                                NaN                                                      \n",
              "1                                                NaN                                                      \n",
              "2                                                NaN                                                      \n",
              "3                                                NaN                                                      \n",
              "4                         Não concordo, nem discordo                                                      \n",
              "\n",
              "   [Acredito que me coloco em risco se utilizar tecnologia que envolvem os meus dados pessoais como um assistente de voz virtual]  \\\n",
              "0                                                NaN                                                                                \n",
              "1                                                NaN                                                                                \n",
              "2                                                NaN                                                                                \n",
              "3                                                NaN                                                                                \n",
              "4                                           Concordo                                                                                \n",
              "\n",
              "   [Considero que a minha privacidade vai estar em risco case utilize um assistente de voz virtual]  \\\n",
              "0                                                NaN                                                  \n",
              "1                                                NaN                                                  \n",
              "2                                                NaN                                                  \n",
              "3                                                NaN                                                  \n",
              "4                                           Concordo                                                  \n",
              "\n",
              "   [Informo-me sobre os riscos associados à utilização de um assistente de voz virtual]  \\\n",
              "0                                                NaN                                      \n",
              "1                                                NaN                                      \n",
              "2                                                NaN                                      \n",
              "3                                                NaN                                      \n",
              "4                             Concordo completamente                                      \n",
              "\n",
              "   Idade       Sexo Habilitações Literárias Se vive em Portugal, em que zona?   \n",
              "0  30-39   Feminino            Doutoramento                              Norte  \n",
              "1  18-29  Masculino            Licenciatura                              Norte  \n",
              "2  40-49  Masculino                Mestrado                              Norte  \n",
              "3  18-29   Feminino            Licenciatura                              Norte  \n",
              "4  18-29  Masculino            Licenciatura                              Norte  \n",
              "\n",
              "[5 rows x 80 columns]"
            ]
          },
          "execution_count": 3,
          "metadata": {},
          "output_type": "execute_result"
        }
      ],
      "source": [
        "# Display the first 5 rows of the DataFrame\n",
        "df.head()"
      ]
    },
    {
      "cell_type": "code",
      "execution_count": 4,
      "metadata": {
        "colab": {
          "base_uri": "https://localhost:8080/"
        },
        "id": "M1DpiuAG4tr5",
        "outputId": "482ca854-162c-4f07-c629-53eb97737bca"
      },
      "outputs": [
        {
          "name": "stdout",
          "output_type": "stream",
          "text": [
            "<class 'pandas.core.frame.DataFrame'>\n",
            "RangeIndex: 276 entries, 0 to 275\n",
            "Data columns (total 80 columns):\n",
            " #   Column                                                                                                                              Non-Null Count  Dtype \n",
            "---  ------                                                                                                                              --------------  ----- \n",
            " 0   Carimbo de data/hora                                                                                                                276 non-null    object\n",
            " 1   Tem um Assistente de Voz Virtual?                                                                                                   276 non-null    object\n",
            " 2   Se sim, qual?                                                                                                                       148 non-null    object\n",
            " 3   Utiliza o Assistente de Voz Virtual?                                                                                                276 non-null    object\n",
            " 4    [O assistente de voz virtual é útil para mim]                                                                                      116 non-null    object\n",
            " 5    [O assistente de voz virtual pode ajudar-me em várias tarefas]                                                                     116 non-null    object\n",
            " 6    [O meu assistente de voz virtual oferece-me boa qualidade de informação]                                                           116 non-null    object\n",
            " 7    [A minha eficiência em tempo melhora quando procuro por informação no assistente de voz virtual]                                   116 non-null    object\n",
            " 8    [No geral, considero o assistente de voz virtual uma ferramenta útil]                                                              116 non-null    object\n",
            " 9    [Aprender a usar o meu assistente de voz virtual foi fácil para mim]                                                               116 non-null    object\n",
            " 10   [As minhas interações com o assistente de voz virtual são claras e compreensíveis]                                                 116 non-null    object\n",
            " 11   [Considero o assistente de voz virtual fácil de usar]                                                                              116 non-null    object\n",
            " 12   [Considero fácil tornar-me habilidoso no uso do assistente de voz virtual]                                                         116 non-null    object\n",
            " 13   [Pessoas que são importantes para mim pensam que devia usar um assistente de voz virtual]                                          116 non-null    object\n",
            " 14   [Pessoas que influenciam as minhas decisões pensam que devia usar um assistente de voz virtual]                                    116 non-null    object\n",
            " 15   [As pessoas de quem eu gosto utilizam um assistente de voz virtual]                                                                116 non-null    object\n",
            " 16   [Quando interajo com o assistente de voz virtual, sinto como se estivesse a falar com uma pessoa real]                             116 non-null    object\n",
            " 17   [Quando interajo com o assistente de voz virtual, experiencio uma sensação de sociabilidade]                                       116 non-null    object\n",
            " 18   [Quando interajo com o assistente de voz virtual sinto uma sensação de contacto humano]                                            116 non-null    object\n",
            " 19   [Quando interajo com o assistente de voz virtual sinto uma sensação de sensibilidade humana]                                       116 non-null    object\n",
            " 20   [Considero que o assistente de voz virtual tem características que associo aos humanos]                                            116 non-null    object\n",
            " 21   [Considero que o assistente de voz virtual tem intenções semelhantes às dos humanos]                                               116 non-null    object\n",
            " 22   [Sinto que posso comunicar com o assistente de voz virtual de forma natural e humana]                                              116 non-null    object\n",
            " 23   [Sinto-me mais próximo do assistente de voz virtual em relação a outras tecnologias]                                               116 non-null    object\n",
            " 24   [Sinto que o assistente de voz virtual me trata de forma mais humana do que outras tecnologias]                                    116 non-null    object\n",
            " 25   [Considero agradável interagir com o assistente de voz virtual]                                                                    116 non-null    object\n",
            " 26   [Sinto que o assistente de voz virtual me compreende]                                                                              116 non-null    object\n",
            " 27   [O assistente de voz virtual facilita a minha comunicação com outras pessoas]                                                      116 non-null    object\n",
            " 28   [O assistente de voz virtual permite-me ter mais interações sociais de qualidade]                                                  116 non-null    object\n",
            " 29   [Acredito que esta tecnologia do assistente de voz virtual é segura]                                                               116 non-null    object\n",
            " 30   [Preocupa-me que as minhas informações pessoais armazenadas no assistente de voz virtual possam ser roubadas]                      116 non-null    object\n",
            " 31   [Preocupo-me que o assistente de voz virtual possa recolher demasiada informação sobre mim]                                        116 non-null    object\n",
            " 32   [Tenho confiança que o assistente de voz virtual protege as informações pessoais que divulgo com ele]                              116 non-null    object\n",
            " 33   [Sinto segurança em partilhar informação pessoal com o assistente de voz virtual]                                                  116 non-null    object\n",
            " 34   [Considero que o assistente de voz virtual me garante um estado de cibersegurança]                                                 116 non-null    object\n",
            " 35   [Considero o assistente de voz virtual eficaz em detetar e prevenir ameaças à minha cibersegurança]                                116 non-null    object\n",
            " 36   [O fator da cibersegurança é importante para o meu uso do assistente de voz virtual]                                               116 non-null    object\n",
            " 37   [Considero que me coloco em risco quando utilizo tecnologia inovadora como o assistente de voz virtual]                            116 non-null    object\n",
            " 38   [Considero que me coloco em risco quando utilizo tecnologia que envolvem os meus dados pessoais como o assistente de voz virtual]  116 non-null    object\n",
            " 39   [Sinto a minha privacidade em risco durante a utilização do assistente de voz virtual]                                             116 non-null    object\n",
            " 40   [Procuro informar-me sobre os riscos associados à utilização do assistente de voz virtual]                                         116 non-null    object\n",
            " 41   [Acredito que um assistente de voz virtual possa vir a ser útil para mim]                                                          160 non-null    object\n",
            " 42   [Acredito que um assistente de voz virtual possa ajudar-me em várias tarefas]                                                      160 non-null    object\n",
            " 43   [Acredito que um assistente de voz virtual oferece boa qualidade de informação ao utilizador]                                      160 non-null    object\n",
            " 44   [A minha eficiência em tempo poderia ser melhorada se utilizasse um assistente de voz virtual para procurar por informação ]       160 non-null    object\n",
            " 45   [No geral, vejo os assistentes de voz virtuais como uma ferramenta útil]                                                           160 non-null    object\n",
            " 46   [Acredito que seja fácil aprender a utilizar um assistente de voz virtual]                                                         160 non-null    object\n",
            " 47   [Acredito ser possível ter interações claras e compreensíveis com um assistente de voz virtual]                                    160 non-null    object\n",
            " 48   [Acredito que um assistente de voz virtual seja fácil de usar]                                                                     160 non-null    object\n",
            " 49   [Acredito que seja fácil tornar-me habilidoso no uso de um assistente de voz virtual]                                              160 non-null    object\n",
            " 50   [Pessoas que são importantes para mim pensam que devia usar um assistente de voz virtual].1                                        160 non-null    object\n",
            " 51   [Pessoas que influenciam as minhas decisões pensam que devia usar um assistente de voz virtual].1                                  160 non-null    object\n",
            " 52   [As pessoas de quem eu gosto utilizam um assistente de voz virtual].1                                                              160 non-null    object\n",
            " 53   [Acredito que os assistentes de voz virtuais dão a sensação de se tratarem de uma pessoa real]                                     160 non-null    object\n",
            " 54   [Acredito que os assistentes de voz virtuais dão a sensação de sociabilidade aos utilizadores]                                     160 non-null    object\n",
            " 55   [Acredito que os assistentes de voz virtuais oferecem a sensação de contacto humano aos utilizadores]                              160 non-null    object\n",
            " 56   [Acredito que os assistentes de voz virtuais oferecem a sensação de sensibilidade humana aos utilizadores]                         160 non-null    object\n",
            " 57   [Acredito que os assistente de voz virtuais têm características que associo aos humanos]                                           160 non-null    object\n",
            " 58   [Acredito que o assistente de voz virtual tem intenções semelhantes às dos humanos]                                                160 non-null    object\n",
            " 59   [Acredito ser possível comunicar com um assistente de voz virtual de forma natural e humana]                                       160 non-null    object\n",
            " 60   [Acredito que a minha proximidade com um assistente de voz virtual possa ser maior do que com outras tecnologias]                  160 non-null    object\n",
            " 61   [Parece ser agradável interagir com um assistente de voz virtual]                                                                  160 non-null    object\n",
            " 62   [Acredito que um assistente de voz virtual me consiga compreender]                                                                 160 non-null    object\n",
            " 63   [Acredito que um assistente de voz virtual me pode facilitar a comunicação com outras pessoas]                                     160 non-null    object\n",
            " 64   [Acredito que um assistente de voz virtual me permita ter mais mais interações sociais de qualidade]                               160 non-null    object\n",
            " 65   [Acredito que esta tecnologia do assistente de voz virtual possa ser segura]                                                       160 non-null    object\n",
            " 66   [Preocupa-me a possibilidade das minhas informações pessoais armazenadas num assistente de voz virtual poderem ser roubadas]       160 non-null    object\n",
            " 67   [Preocupa-me que um assistente de voz virtual possa recolher demasiada informação sobre mim]                                       160 non-null    object\n",
            " 68   [Acredito que um assistente de voz virtual consegue proteger as informações pessoais que possa divulgar com ele]                   160 non-null    object\n",
            " 69   [Acredito que os assistentes de voz virtuais oferecem um estado de cibersegurança aos utilizadores]                                160 non-null    object\n",
            " 70   [Acredito que um assistente de voz virtual possa ser eficaz em detetar e prevenir ameaças à minha cibersegurança]                  160 non-null    object\n",
            " 71   [A perceção da cibersegurança é importante para a minha futura compra/utilização de um assistente de voz virtual]                  160 non-null    object\n",
            " 72   [Acredito que me coloco em risco se utilizar tecnologia inovadora como um assistente de voz virtual]                               160 non-null    object\n",
            " 73   [Acredito que me coloco em risco se utilizar tecnologia que envolvem os meus dados pessoais como um assistente de voz virtual]     160 non-null    object\n",
            " 74   [Considero que a minha privacidade vai estar em risco case utilize um assistente de voz virtual]                                   160 non-null    object\n",
            " 75   [Informo-me sobre os riscos associados à utilização de um assistente de voz virtual]                                               160 non-null    object\n",
            " 76  Idade                                                                                                                               276 non-null    object\n",
            " 77  Sexo                                                                                                                                276 non-null    object\n",
            " 78  Habilitações Literárias                                                                                                             276 non-null    object\n",
            " 79  Se vive em Portugal, em que zona?                                                                                                   276 non-null    object\n",
            "dtypes: object(80)\n",
            "memory usage: 172.6+ KB\n"
          ]
        }
      ],
      "source": [
        "# Print information about the dataframe\n",
        "df.info()"
      ]
    },
    {
      "cell_type": "code",
      "execution_count": 5,
      "metadata": {
        "colab": {
          "base_uri": "https://localhost:8080/"
        },
        "id": "LxnxKqY54_gg",
        "outputId": "5be9861f-8a72-4ef6-ee90-29630b124273"
      },
      "outputs": [
        {
          "name": "stdout",
          "output_type": "stream",
          "text": [
            "(276, 80)\n",
            "Index(['Carimbo de data/hora', 'Tem um Assistente de Voz Virtual?',\n",
            "       'Se sim, qual? ', 'Utiliza o Assistente de Voz Virtual? ',\n",
            "       ' [O assistente de voz virtual é útil para mim]',\n",
            "       ' [O assistente de voz virtual pode ajudar-me em várias tarefas]',\n",
            "       ' [O meu assistente de voz virtual oferece-me boa qualidade de informação]',\n",
            "       ' [A minha eficiência em tempo melhora quando procuro por informação no assistente de voz virtual]',\n",
            "       ' [No geral, considero o assistente de voz virtual uma ferramenta útil]',\n",
            "       ' [Aprender a usar o meu assistente de voz virtual foi fácil para mim]',\n",
            "       ' [As minhas interações com o assistente de voz virtual são claras e compreensíveis]',\n",
            "       ' [Considero o assistente de voz virtual fácil de usar]',\n",
            "       ' [Considero fácil tornar-me habilidoso no uso do assistente de voz virtual]',\n",
            "       ' [Pessoas que são importantes para mim pensam que devia usar um assistente de voz virtual]',\n",
            "       ' [Pessoas que influenciam as minhas decisões pensam que devia usar um assistente de voz virtual]',\n",
            "       ' [As pessoas de quem eu gosto utilizam um assistente de voz virtual]',\n",
            "       ' [Quando interajo com o assistente de voz virtual, sinto como se estivesse a falar com uma pessoa real]',\n",
            "       ' [Quando interajo com o assistente de voz virtual, experiencio uma sensação de sociabilidade]',\n",
            "       ' [Quando interajo com o assistente de voz virtual sinto uma sensação de contacto humano]',\n",
            "       ' [Quando interajo com o assistente de voz virtual sinto uma sensação de sensibilidade humana]',\n",
            "       ' [Considero que o assistente de voz virtual tem características que associo aos humanos]',\n",
            "       ' [Considero que o assistente de voz virtual tem intenções semelhantes às dos humanos]',\n",
            "       ' [Sinto que posso comunicar com o assistente de voz virtual de forma natural e humana]',\n",
            "       ' [Sinto-me mais próximo do assistente de voz virtual em relação a outras tecnologias]',\n",
            "       ' [Sinto que o assistente de voz virtual me trata de forma mais humana do que outras tecnologias]',\n",
            "       ' [Considero agradável interagir com o assistente de voz virtual]',\n",
            "       ' [Sinto que o assistente de voz virtual me compreende]',\n",
            "       ' [O assistente de voz virtual facilita a minha comunicação com outras pessoas]',\n",
            "       ' [O assistente de voz virtual permite-me ter mais interações sociais de qualidade]',\n",
            "       ' [Acredito que esta tecnologia do assistente de voz virtual é segura]',\n",
            "       ' [Preocupa-me que as minhas informações pessoais armazenadas no assistente de voz virtual possam ser roubadas]',\n",
            "       ' [Preocupo-me que o assistente de voz virtual possa recolher demasiada informação sobre mim]',\n",
            "       ' [Tenho confiança que o assistente de voz virtual protege as informações pessoais que divulgo com ele]',\n",
            "       ' [Sinto segurança em partilhar informação pessoal com o assistente de voz virtual]',\n",
            "       ' [Considero que o assistente de voz virtual me garante um estado de cibersegurança]',\n",
            "       ' [Considero o assistente de voz virtual eficaz em detetar e prevenir ameaças à minha cibersegurança]',\n",
            "       ' [O fator da cibersegurança é importante para o meu uso do assistente de voz virtual]',\n",
            "       ' [Considero que me coloco em risco quando utilizo tecnologia inovadora como o assistente de voz virtual]',\n",
            "       ' [Considero que me coloco em risco quando utilizo tecnologia que envolvem os meus dados pessoais como o assistente de voz virtual]',\n",
            "       ' [Sinto a minha privacidade em risco durante a utilização do assistente de voz virtual]',\n",
            "       ' [Procuro informar-me sobre os riscos associados à utilização do assistente de voz virtual]',\n",
            "       ' [Acredito que um assistente de voz virtual possa vir a ser útil para mim]',\n",
            "       ' [Acredito que um assistente de voz virtual possa ajudar-me em várias tarefas]',\n",
            "       ' [Acredito que um assistente de voz virtual oferece boa qualidade de informação ao utilizador]',\n",
            "       ' [A minha eficiência em tempo poderia ser melhorada se utilizasse um assistente de voz virtual para procurar por informação ]',\n",
            "       ' [No geral, vejo os assistentes de voz virtuais como uma ferramenta útil]',\n",
            "       ' [Acredito que seja fácil aprender a utilizar um assistente de voz virtual]',\n",
            "       ' [Acredito ser possível ter interações claras e compreensíveis com um assistente de voz virtual]',\n",
            "       ' [Acredito que um assistente de voz virtual seja fácil de usar]',\n",
            "       ' [Acredito que seja fácil tornar-me habilidoso no uso de um assistente de voz virtual]',\n",
            "       ' [Pessoas que são importantes para mim pensam que devia usar um assistente de voz virtual].1',\n",
            "       ' [Pessoas que influenciam as minhas decisões pensam que devia usar um assistente de voz virtual].1',\n",
            "       ' [As pessoas de quem eu gosto utilizam um assistente de voz virtual].1',\n",
            "       ' [Acredito que os assistentes de voz virtuais dão a sensação de se tratarem de uma pessoa real]',\n",
            "       ' [Acredito que os assistentes de voz virtuais dão a sensação de sociabilidade aos utilizadores]',\n",
            "       ' [Acredito que os assistentes de voz virtuais oferecem a sensação de contacto humano aos utilizadores]',\n",
            "       ' [Acredito que os assistentes de voz virtuais oferecem a sensação de sensibilidade humana aos utilizadores]',\n",
            "       ' [Acredito que os assistente de voz virtuais têm características que associo aos humanos]',\n",
            "       ' [Acredito que o assistente de voz virtual tem intenções semelhantes às dos humanos]',\n",
            "       ' [Acredito ser possível comunicar com um assistente de voz virtual de forma natural e humana]',\n",
            "       ' [Acredito que a minha proximidade com um assistente de voz virtual possa ser maior do que com outras tecnologias]',\n",
            "       ' [Parece ser agradável interagir com um assistente de voz virtual]',\n",
            "       ' [Acredito que um assistente de voz virtual me consiga compreender]',\n",
            "       ' [Acredito que um assistente de voz virtual me pode facilitar a comunicação com outras pessoas]',\n",
            "       ' [Acredito que um assistente de voz virtual me permita ter mais mais interações sociais de qualidade]',\n",
            "       ' [Acredito que esta tecnologia do assistente de voz virtual possa ser segura]',\n",
            "       ' [Preocupa-me a possibilidade das minhas informações pessoais armazenadas num assistente de voz virtual poderem ser roubadas]',\n",
            "       ' [Preocupa-me que um assistente de voz virtual possa recolher demasiada informação sobre mim]',\n",
            "       ' [Acredito que um assistente de voz virtual consegue proteger as informações pessoais que possa divulgar com ele]',\n",
            "       ' [Acredito que os assistentes de voz virtuais oferecem um estado de cibersegurança aos utilizadores]',\n",
            "       ' [Acredito que um assistente de voz virtual possa ser eficaz em detetar e prevenir ameaças à minha cibersegurança]',\n",
            "       ' [A perceção da cibersegurança é importante para a minha futura compra/utilização de um assistente de voz virtual]',\n",
            "       ' [Acredito que me coloco em risco se utilizar tecnologia inovadora como um assistente de voz virtual]',\n",
            "       ' [Acredito que me coloco em risco se utilizar tecnologia que envolvem os meus dados pessoais como um assistente de voz virtual]',\n",
            "       ' [Considero que a minha privacidade vai estar em risco case utilize um assistente de voz virtual]',\n",
            "       ' [Informo-me sobre os riscos associados à utilização de um assistente de voz virtual]',\n",
            "       'Idade', 'Sexo', 'Habilitações Literárias',\n",
            "       'Se vive em Portugal, em que zona? '],\n",
            "      dtype='object')\n",
            "RangeIndex(start=0, stop=276, step=1)\n"
          ]
        }
      ],
      "source": [
        "# Print the shape of df\n",
        "print(df.shape)\n",
        "\n",
        "# Print a description of df\n",
        "#print(df.describe())\n",
        "\n",
        "# Print the values of homelessness\n",
        "#print(df.values)\n",
        "\n",
        "# Print the column index of homelessness\n",
        "print(df.columns)\n",
        "\n",
        "# Print the row index of homelessness\n",
        "print(df.index)\n"
      ]
    },
    {
      "cell_type": "code",
      "execution_count": null,
      "metadata": {
        "id": "TZt74vcD5b-2"
      },
      "outputs": [],
      "source": []
    },
    {
      "cell_type": "code",
      "execution_count": null,
      "metadata": {
        "id": "IYMbXvk25hBL"
      },
      "outputs": [],
      "source": [
        "\n",
        "\n"
      ]
    },
    {
      "cell_type": "code",
      "execution_count": null,
      "metadata": {
        "id": "33VB4er85swQ"
      },
      "outputs": [],
      "source": [
        "\n"
      ]
    },
    {
      "cell_type": "code",
      "execution_count": null,
      "metadata": {
        "id": "dDY3cqze5ta-"
      },
      "outputs": [],
      "source": []
    },
    {
      "cell_type": "code",
      "execution_count": null,
      "metadata": {
        "colab": {
          "base_uri": "https://localhost:8080/",
          "height": 939
        },
        "id": "i3i0Dge27k5N",
        "outputId": "938508b6-4df3-496b-9342-afec09c77315"
      },
      "outputs": [],
      "source": []
    },
    {
      "cell_type": "markdown",
      "metadata": {
        "id": "FT3remFK59Ey"
      },
      "source": [
        "----\n",
        "\n",
        "## Analise\n",
        "\n",
        "----"
      ]
    },
    {
      "cell_type": "code",
      "execution_count": 6,
      "metadata": {},
      "outputs": [
        {
          "data": {
            "text/plain": [
              "Tem um Assistente de Voz Virtual?                                                                              [Sim, Não, Não sei o que é]\n",
              "Se sim, qual?                                                                            [Amazon Alexa, nan, Google Assistant, Outro, A...\n",
              "Utiliza o Assistente de Voz Virtual?                                                                                            [Sim, Não]\n",
              " [O assistente de voz virtual é útil para mim]                                           [Concordo, Discordo completamente, nan, Não co...\n",
              " [O assistente de voz virtual pode ajudar-me em várias tarefas]                          [Concordo, Não concordo, nem discordo, Discord...\n",
              "                                                                                                               ...                        \n",
              " [Informo-me sobre os riscos associados à utilização de um assistente de voz virtual]    [nan, Concordo completamente, Concordo, Não co...\n",
              "Idade                                                                                             [30-39, 18-29, 40-49, 50-59, < 18, > 60]\n",
              "Sexo                                                                                              [Feminino, Masculino, Prefiro não dizer]\n",
              "Habilitações Literárias                                                                  [Doutoramento, Licenciatura, Mestrado, Ensino ...\n",
              "Se vive em Portugal, em que zona?                                                        [Norte, Centro, Não vivo em Portugal, Ilhas, Sul]\n",
              "Length: 79, dtype: object"
            ]
          },
          "execution_count": 6,
          "metadata": {},
          "output_type": "execute_result"
        }
      ],
      "source": [
        "unique_values = df.iloc[:, 1:].apply(pd.Series.unique)\n",
        "unique_values"
      ]
    },
    {
      "cell_type": "code",
      "execution_count": 7,
      "metadata": {
        "colab": {
          "base_uri": "https://localhost:8080/"
        },
        "id": "BzqhLYGOD5ds",
        "outputId": "3d5ae776-ecf6-4925-b62c-d172299294b2"
      },
      "outputs": [
        {
          "data": {
            "text/plain": [
              "array(['30-39', '18-29', '40-49', '50-59', '< 18', '> 60'], dtype=object)"
            ]
          },
          "execution_count": 7,
          "metadata": {},
          "output_type": "execute_result"
        }
      ],
      "source": [
        "unique_age_intervals = df['Idade'].unique()\n",
        "unique_age_intervals"
      ]
    },
    {
      "cell_type": "code",
      "execution_count": 8,
      "metadata": {
        "colab": {
          "base_uri": "https://localhost:8080/"
        },
        "id": "G04zW7zDH1xf",
        "outputId": "d4008f2a-6e68-4af8-9721-e774aebf3b43"
      },
      "outputs": [
        {
          "data": {
            "text/plain": [
              "array(['Sim', 'Não', 'Não sei o que é'], dtype=object)"
            ]
          },
          "execution_count": 8,
          "metadata": {},
          "output_type": "execute_result"
        }
      ],
      "source": [
        "assis_voice = df['Tem um Assistente de Voz Virtual?'].unique()\n",
        "assis_voice"
      ]
    },
    {
      "cell_type": "code",
      "execution_count": 9,
      "metadata": {
        "id": "8LFWNa1UH9HB"
      },
      "outputs": [
        {
          "data": {
            "text/plain": [
              "array(['Sim', 'Não'], dtype=object)"
            ]
          },
          "execution_count": 9,
          "metadata": {},
          "output_type": "execute_result"
        }
      ],
      "source": [
        "unique3 = df['Utiliza o Assistente de Voz Virtual? '].unique()\n",
        "unique3"
      ]
    },
    {
      "cell_type": "code",
      "execution_count": null,
      "metadata": {
        "id": "1ZQ4fwn9H8-K"
      },
      "outputs": [],
      "source": []
    },
    {
      "cell_type": "markdown",
      "metadata": {
        "id": "fLnoYugUH66I"
      },
      "source": [
        "-----\n",
        "-----\n",
        "-----"
      ]
    },
    {
      "attachments": {},
      "cell_type": "markdown",
      "metadata": {},
      "source": [
        "Transformações nos dados"
      ]
    },
    {
      "cell_type": "code",
      "execution_count": 10,
      "metadata": {},
      "outputs": [
        {
          "name": "stderr",
          "output_type": "stream",
          "text": [
            "/var/folders/6x/sp_vy0g12kv_vw9114lrmss40000gn/T/ipykernel_3815/1624175577.py:37: SettingWithCopyWarning: \n",
            "A value is trying to be set on a copy of a slice from a DataFrame.\n",
            "Try using .loc[row_indexer,col_indexer] = value instead\n",
            "\n",
            "See the caveats in the documentation: https://pandas.pydata.org/pandas-docs/stable/user_guide/indexing.html#returning-a-view-versus-a-copy\n",
            "  sim_respondents[sim_columns] = sim_respondents[sim_columns].replace(likert_to_numeric).astype('Int64')\n",
            "/var/folders/6x/sp_vy0g12kv_vw9114lrmss40000gn/T/ipykernel_3815/1624175577.py:38: SettingWithCopyWarning: \n",
            "A value is trying to be set on a copy of a slice from a DataFrame.\n",
            "Try using .loc[row_indexer,col_indexer] = value instead\n",
            "\n",
            "See the caveats in the documentation: https://pandas.pydata.org/pandas-docs/stable/user_guide/indexing.html#returning-a-view-versus-a-copy\n",
            "  nao_respondents[common_columns] = nao_respondents[common_columns].replace(likert_to_numeric).astype('Int64')\n"
          ]
        }
      ],
      "source": [
        "\n",
        "\n",
        "# Replace the 'Carimbo de data/hora' column with datetime format\n",
        "df['Carimbo de data/hora'] = pd.to_datetime(df['Carimbo de data/hora'])\n",
        "\n",
        "# Replace the values in the 'Tem um Assistente de Voz Virtual?' column\n",
        "tem_mapping = {\n",
        "    'Sim': 1,\n",
        "    'Não': 0\n",
        "}\n",
        "df['Tem um Assistente de Voz Virtual?'] = df['Tem um Assistente de Voz Virtual?'].replace(tem_mapping)\n",
        "\n",
        "# Filter out the 'Não sei o que é' responses\n",
        "df = df[df['Tem um Assistente de Voz Virtual?'].notnull()]\n",
        "\n",
        "# Replace the values in the 'Utiliza o Assistente de Voz Virtual?' column\n",
        "utiliza_mapping = {\n",
        "    'Sim': 1,\n",
        "    'Não': 0\n",
        "}\n",
        "df['Utiliza o Assistente de Voz Virtual? '] = df['Utiliza o Assistente de Voz Virtual? '].replace(utiliza_mapping).astype('Int64')\n",
        "\n",
        "# Create two separate dataframes for respondents who answered 'Sim' and 'Não' to the 'Utiliza o Assistente de Voz Virtual?' question\n",
        "sim_respondents = df[df['Utiliza o Assistente de Voz Virtual? '] == 1]\n",
        "nao_respondents = df[df['Utiliza o Assistente de Voz Virtual? '] == 0]\n",
        "\n",
        "# Replace the Likert scale responses with numeric values\n",
        "likert_to_numeric = {\n",
        "    'Discordo completamente': 1,\n",
        "    'Discordo': 2,\n",
        "    'Não concordo, nem discordo': 3,\n",
        "    'Concordo': 4,\n",
        "    'Concordo completamente': 5\n",
        "}\n",
        "\n",
        "sim_columns = [column_name for column_name in df.columns if column_name.startswith(' [')]\n",
        "common_columns = list(set(sim_columns).intersection(nao_respondents.columns))\n",
        "\n",
        "sim_respondents[sim_columns] = sim_respondents[sim_columns].replace(likert_to_numeric).astype('Int64')\n",
        "nao_respondents[common_columns] = nao_respondents[common_columns].replace(likert_to_numeric).astype('Int64')\n",
        "\n",
        "# Combine the dataframes back together\n",
        "preprocessed_data = pd.concat([sim_respondents, nao_respondents], ignore_index=True)\n",
        "\n",
        "# Save preprocessed_data to a CSV file\n",
        "preprocessed_data.to_csv(\"preprocessed_data.csv\", index=False)\n"
      ]
    },
    {
      "cell_type": "code",
      "execution_count": 11,
      "metadata": {},
      "outputs": [],
      "source": [
        "def age_interval_to_midpoint(age_interval):\n",
        "    if age_interval == '< 18':\n",
        "        return 16\n",
        "    elif age_interval == '> 60':\n",
        "        return 65\n",
        "    else:\n",
        "        lower, upper = map(int, age_interval.split('-'))\n",
        "        return (lower + upper) / 2\n",
        "\n",
        "\n",
        "preprocessed_data['Age_midpoint'] = preprocessed_data['Idade'].apply(age_interval_to_midpoint)\n"
      ]
    },
    {
      "cell_type": "code",
      "execution_count": 12,
      "metadata": {},
      "outputs": [
        {
          "name": "stdout",
          "output_type": "stream",
          "text": [
            "Mean age midpoint: 34.50\n",
            "Median age midpoint: 23.50\n",
            "Standard deviation of age midpoint: 13.22\n"
          ]
        }
      ],
      "source": [
        "mean_age_midpoint = preprocessed_data['Age_midpoint'].mean()\n",
        "median_age_midpoint = preprocessed_data['Age_midpoint'].median()\n",
        "std_age_midpoint = preprocessed_data['Age_midpoint'].std()\n",
        "\n",
        "print(f\"Mean age midpoint: {mean_age_midpoint:.2f}\")\n",
        "print(f\"Median age midpoint: {median_age_midpoint:.2f}\")\n",
        "print(f\"Standard deviation of age midpoint: {std_age_midpoint:.2f}\")\n"
      ]
    },
    {
      "cell_type": "code",
      "execution_count": null,
      "metadata": {},
      "outputs": [],
      "source": []
    },
    {
      "cell_type": "code",
      "execution_count": null,
      "metadata": {},
      "outputs": [],
      "source": []
    },
    {
      "cell_type": "code",
      "execution_count": 13,
      "metadata": {},
      "outputs": [
        {
          "name": "stdout",
          "output_type": "stream",
          "text": [
            "Apple Siri                                           51\n",
            "Google Assistant                                     40\n",
            "Amazon Alexa                                         31\n",
            "Outro                                                 5\n",
            "Samsung Bixby                                         5\n",
            "Microsoft Cortana                                     5\n",
            "Google Assistant, Samsung Bixby                       3\n",
            "Microsoft Cortana, Samsung Bixby                      2\n",
            "Apple Siri, Google Assistant                          1\n",
            "Amazon Alexa, Google Assistant, Samsung Bixby         1\n",
            "Amazon Alexa, Apple Siri                              1\n",
            "Google Assistant, Microsoft Cortana                   1\n",
            "Amazon Alexa, Google Assistant, Microsoft Cortana     1\n",
            "Apple Siri, Google Assistant, Microsoft Cortana       1\n",
            "Name: Se sim, qual? , dtype: int64\n"
          ]
        }
      ],
      "source": [
        "se_sim_qual_counts = preprocessed_data['Se sim, qual? '].value_counts()\n",
        "print(se_sim_qual_counts)\n"
      ]
    },
    {
      "cell_type": "code",
      "execution_count": 14,
      "metadata": {},
      "outputs": [
        {
          "name": "stdout",
          "output_type": "stream",
          "text": [
            "Masculino            144\n",
            "Feminino             128\n",
            "Prefiro não dizer      4\n",
            "Name: Sexo, dtype: int64\n"
          ]
        }
      ],
      "source": [
        "sexo_counts = preprocessed_data['Sexo'].value_counts()\n",
        "print(sexo_counts)\n"
      ]
    },
    {
      "cell_type": "code",
      "execution_count": 15,
      "metadata": {},
      "outputs": [
        {
          "name": "stdout",
          "output_type": "stream",
          "text": [
            "Licenciatura         97\n",
            "Ensino Secundário    76\n",
            "Mestrado             62\n",
            "Pós-Graduação        29\n",
            "Doutoramento          7\n",
            "Ensino Básico         5\n",
            "Name: Habilitações Literárias, dtype: int64\n"
          ]
        }
      ],
      "source": [
        "habilitacoes_counts = preprocessed_data['Habilitações Literárias'].value_counts()\n",
        "print(habilitacoes_counts)\n"
      ]
    },
    {
      "cell_type": "code",
      "execution_count": 16,
      "metadata": {},
      "outputs": [
        {
          "name": "stdout",
          "output_type": "stream",
          "text": [
            "Norte                   222\n",
            "Centro                   24\n",
            "Sul                      19\n",
            "Não vivo em Portugal      7\n",
            "Ilhas                     4\n",
            "Name: Se vive em Portugal, em que zona? , dtype: int64\n"
          ]
        }
      ],
      "source": [
        "zona_counts = preprocessed_data['Se vive em Portugal, em que zona? '].value_counts()\n",
        "print(zona_counts)\n"
      ]
    },
    {
      "cell_type": "code",
      "execution_count": null,
      "metadata": {},
      "outputs": [],
      "source": []
    },
    {
      "cell_type": "code",
      "execution_count": 17,
      "metadata": {},
      "outputs": [
        {
          "ename": "NameError",
          "evalue": "name 'likert_columns' is not defined",
          "output_type": "error",
          "traceback": [
            "\u001b[0;31m---------------------------------------------------------------------------\u001b[0m",
            "\u001b[0;31mNameError\u001b[0m                                 Traceback (most recent call last)",
            "\u001b[1;32m/Users/diogosilva/Documents/GitHub/Data-Science/notebooks/questionario_seringas/seringas_questionario.ipynb Cell 31\u001b[0m in \u001b[0;36m1\n\u001b[0;32m----> <a href='vscode-notebook-cell:/Users/diogosilva/Documents/GitHub/Data-Science/notebooks/questionario_seringas/seringas_questionario.ipynb#Y105sZmlsZQ%3D%3D?line=0'>1</a>\u001b[0m frequency_distributions \u001b[39m=\u001b[39m preprocessed_data[likert_columns]\u001b[39m.\u001b[39mapply(pd\u001b[39m.\u001b[39mSeries\u001b[39m.\u001b[39mvalue_counts)\n\u001b[1;32m      <a href='vscode-notebook-cell:/Users/diogosilva/Documents/GitHub/Data-Science/notebooks/questionario_seringas/seringas_questionario.ipynb#Y105sZmlsZQ%3D%3D?line=1'>2</a>\u001b[0m \u001b[39mprint\u001b[39m(frequency_distributions)\n",
            "\u001b[0;31mNameError\u001b[0m: name 'likert_columns' is not defined"
          ]
        }
      ],
      "source": []
    },
    {
      "cell_type": "code",
      "execution_count": null,
      "metadata": {},
      "outputs": [],
      "source": []
    },
    {
      "cell_type": "code",
      "execution_count": null,
      "metadata": {},
      "outputs": [],
      "source": []
    }
  ],
  "metadata": {
    "colab": {
      "authorship_tag": "ABX9TyOl2IhjxFTxu4wWRxrPbKP/",
      "include_colab_link": true,
      "mount_file_id": "1F0ISB6j64uI7EBB1FFkWUNhCnvpVntiU",
      "provenance": []
    },
    "kernelspec": {
      "display_name": "Python 3",
      "name": "python3"
    },
    "language_info": {
      "codemirror_mode": {
        "name": "ipython",
        "version": 3
      },
      "file_extension": ".py",
      "mimetype": "text/x-python",
      "name": "python",
      "nbconvert_exporter": "python",
      "pygments_lexer": "ipython3",
      "version": "3.10.4"
    }
  },
  "nbformat": 4,
  "nbformat_minor": 0
}
